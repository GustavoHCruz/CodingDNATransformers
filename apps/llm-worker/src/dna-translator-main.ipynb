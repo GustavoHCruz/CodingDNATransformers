{
 "cells": [
  {
   "cell_type": "code",
   "execution_count": null,
   "id": "0cfe64b4",
   "metadata": {},
   "outputs": [],
   "source": [
    "import editdistance\n",
    "import pandas as pd\n",
    "\n",
    "from llms.protein_translator.gpt import DnaTranslatorGPT\n",
    "from schemas.train_params import TrainParams\n",
    "from sklearn.model_selection import train_test_split\n",
    "from tqdm import tqdm"
   ]
  },
  {
   "cell_type": "code",
   "execution_count": null,
   "id": "a0eb2eef",
   "metadata": {},
   "outputs": [],
   "source": [
    "seed = 42"
   ]
  },
  {
   "cell_type": "code",
   "execution_count": null,
   "id": "a8947a8a",
   "metadata": {},
   "outputs": [],
   "source": [
    "df = pd.read_csv(\"data/DNATranslator-IntronsExons.csv\", keep_default_na=False)"
   ]
  },
  {
   "cell_type": "code",
   "execution_count": null,
   "id": "27925765",
   "metadata": {},
   "outputs": [],
   "source": [
    "llm = DnaTranslatorGPT(\n",
    "  checkpoint=\"gpt2\",\n",
    "  seed=seed\n",
    ")"
   ]
  },
  {
   "cell_type": "code",
   "execution_count": null,
   "id": "3b58f0a8",
   "metadata": {},
   "outputs": [],
   "source": [
    "all_dataset = []\n",
    "for data in tqdm(df.itertuples()):\n",
    "\tif len(data.sequence) > 715:\n",
    "\t\tcontinue\n",
    "\texample = llm.build_input(\n",
    "\t\tsequence=data.sequence,\n",
    "\t\ttarget=data.target,\n",
    "\t\torganism=data.organism\n",
    "\t)\n",
    "\tall_dataset.append(example)\n",
    "\n",
    "train_dataset, test_dataset = train_test_split(\n",
    "    all_dataset,\n",
    "    test_size=0.05,\n",
    "    random_state=seed,\n",
    "    shuffle=True\n",
    ")\n"
   ]
  },
  {
   "cell_type": "code",
   "execution_count": null,
   "id": "b30c6553",
   "metadata": {},
   "outputs": [],
   "source": [
    "llm.train(\n",
    "  dataset=train_dataset,\n",
    "  params=TrainParams(\n",
    "    epochs=2,\n",
    "    batch_size=1,\n",
    "    gradient_accumulation=4,\n",
    "    lr=2e-5\n",
    "\t)\n",
    ")"
   ]
  },
  {
   "cell_type": "code",
   "execution_count": null,
   "id": "edf8cde5",
   "metadata": {},
   "outputs": [],
   "source": [
    "llm.save_pretrained(\"GPT2-DNATranslator\")"
   ]
  },
  {
   "cell_type": "code",
   "execution_count": null,
   "id": "36102804",
   "metadata": {},
   "outputs": [],
   "source": [
    "results = []\n",
    "\n",
    "for data in tqdm(test_dataset[:30]):\n",
    "\tpred = llm.generate(data)\n",
    "\ttarget = data[\"target\"]\n",
    "\n",
    "\tdist = editdistance.eval(pred, target)\n",
    "\tsimilarity = 1 - dist / max(len(pred), len(target))\n",
    "\n",
    "\tresults.append({\n",
    "\t\t\"target\": target,\n",
    "\t\t\"pred\": pred,\n",
    "\t\t\"edit_dist\": dist,\n",
    "\t\t\"similarity\": similarity\n",
    "\t})"
   ]
  },
  {
   "cell_type": "code",
   "execution_count": null,
   "id": "1cb8abe7",
   "metadata": {},
   "outputs": [],
   "source": [
    "df = pd.DataFrame(results)\n",
    "df.to_csv(\"DNATranslatorResults.csv\", index=False)"
   ]
  }
 ],
 "metadata": {
  "language_info": {
   "name": "python"
  }
 },
 "nbformat": 4,
 "nbformat_minor": 5
}
