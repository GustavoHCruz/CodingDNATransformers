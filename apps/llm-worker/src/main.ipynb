{
 "cells": [
  {
   "cell_type": "code",
   "execution_count": null,
   "id": "fe766f75",
   "metadata": {},
   "outputs": [],
   "source": [
    "import pandas as pd\n",
    "\n",
    "from llms.exin_classifier.gpt import ExInClassifierGPT\n",
    "from schemas.train_params import TrainParams\n",
    "from sklearn.metrics import accuracy_score, precision_score, recall_score, f1_score\n",
    "from sklearn.model_selection import train_test_split\n",
    "from tqdm import tqdm"
   ]
  },
  {
   "cell_type": "code",
   "execution_count": null,
   "id": "f9f7399e",
   "metadata": {},
   "outputs": [],
   "source": [
    "seed = 42"
   ]
  },
  {
   "cell_type": "code",
   "execution_count": null,
   "id": "f96f102f",
   "metadata": {},
   "outputs": [],
   "source": [
    "df = pd.read_csv(\"ExIn-GPT.csv\", keep_default_na=False)"
   ]
  },
  {
   "cell_type": "code",
   "execution_count": null,
   "id": "e0e3e2b6",
   "metadata": {},
   "outputs": [],
   "source": [
    "llm = ExInClassifierGPT(\n",
    "  checkpoint=\"gpt2\",\n",
    "  seed=seed\n",
    ")"
   ]
  },
  {
   "cell_type": "code",
   "execution_count": null,
   "id": "444fe2f5",
   "metadata": {},
   "outputs": [],
   "source": [
    "all_dataset = []\n",
    "for data in tqdm(df.itertuples()):\n",
    "\texample = llm.build_input(\n",
    "\t\tsequence=data.sequence,\n",
    "\t\ttarget=data.target,\n",
    "\t\torganism=data.organism,\n",
    "\t\tgene=data.gene,\n",
    "\t\tbefore=data.flankBefore,\n",
    "\t\tafter=data.flankAfter\n",
    "\t)\n",
    "\tall_dataset.append(example)\n",
    "\n",
    "train_dataset, test_dataset = train_test_split(\n",
    "    all_dataset,\n",
    "    test_size=0.05,\n",
    "    random_state=seed,\n",
    "    shuffle=True\n",
    ")\n"
   ]
  },
  {
   "cell_type": "code",
   "execution_count": null,
   "id": "5b88cb76",
   "metadata": {},
   "outputs": [],
   "source": [
    "llm.train(\n",
    "  dataset=train_dataset,\n",
    "  params=TrainParams(\n",
    "    epochs=1,\n",
    "    batch_size=1,\n",
    "    gradient_accumulation=1,\n",
    "    lr=2e-5\n",
    "\t)\n",
    ")"
   ]
  },
  {
   "cell_type": "code",
   "execution_count": null,
   "id": "5c71067c",
   "metadata": {},
   "outputs": [],
   "source": [
    "llm.save_pretrained(\"GPT2-ExInClassifier\")"
   ]
  },
  {
   "cell_type": "code",
   "execution_count": null,
   "id": "acd2a717",
   "metadata": {},
   "outputs": [],
   "source": [
    "y_true = []\n",
    "y_pred = []\n",
    "\n",
    "for data in tqdm(test_dataset):\n",
    "\tanswer = llm.generate(data)\n",
    "\ty_pred.append(answer)\n",
    "\ty_true.append(data[\"target\"])\n"
   ]
  },
  {
   "cell_type": "code",
   "execution_count": null,
   "id": "490cfdbc",
   "metadata": {},
   "outputs": [],
   "source": [
    "print(\"\\nMétricas para INTRON como classe positiva:\")\n",
    "print(\"  Precisão :\", precision_score(y_true, y_pred, pos_label=\"INTRON\"))\n",
    "print(\"  Recall   :\", recall_score(y_true, y_pred, pos_label=\"INTRON\"))\n",
    "print(\"  F1       :\", f1_score(y_true, y_pred, pos_label=\"INTRON\"))\n",
    "print(\"  Acurácia :\", accuracy_score(y_true, y_pred))\n",
    "\n",
    "print(\"Métricas para EXON como classe positiva:\")\n",
    "print(\"  Precisão :\", precision_score(y_true, y_pred, pos_label=\"EXON\"))\n",
    "print(\"  Recall   :\", recall_score(y_true, y_pred, pos_label=\"EXON\"))\n",
    "print(\"  F1       :\", f1_score(y_true, y_pred, pos_label=\"EXON\"))\n",
    "print(\"  Acurácia :\", accuracy_score(y_true, y_pred))"
   ]
  }
 ],
 "metadata": {
  "kernelspec": {
   "display_name": "Python 3",
   "language": "python",
   "name": "python3"
  },
  "language_info": {
   "codemirror_mode": {
    "name": "ipython",
    "version": 3
   },
   "file_extension": ".py",
   "mimetype": "text/x-python",
   "name": "python",
   "nbconvert_exporter": "python",
   "pygments_lexer": "ipython3",
   "version": "3.13.5"
  }
 },
 "nbformat": 4,
 "nbformat_minor": 5
}
