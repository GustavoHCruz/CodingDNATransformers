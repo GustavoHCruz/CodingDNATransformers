{
 "cells": [
  {
   "cell_type": "code",
   "execution_count": null,
   "id": "fe766f75",
   "metadata": {},
   "outputs": [],
   "source": [
    "import pandas as pd\n",
    "\n",
    "from llms.exin_classifier.gpt import ExInClassifierGPT\n",
    "from llms.exin_classifier.bert import ExInClassifierBERT\n",
    "from llms.exin_classifier.dnabert import ExInClassifierDNABERT\n",
    "from schemas.train_params import TrainParams\n",
    "from sklearn.metrics import accuracy_score, precision_score, recall_score, f1_score\n",
    "from sklearn.model_selection import train_test_split\n",
    "from tqdm import tqdm"
   ]
  },
  {
   "cell_type": "code",
   "execution_count": null,
   "id": "f9f7399e",
   "metadata": {},
   "outputs": [],
   "source": [
    "seed = 42"
   ]
  },
  {
   "cell_type": "code",
   "execution_count": null,
   "id": "f96f102f",
   "metadata": {},
   "outputs": [],
   "source": [
    "df = pd.read_csv(\"ExIn-GPT.csv\", keep_default_na=False)"
   ]
  },
  {
   "cell_type": "code",
   "execution_count": null,
   "id": "bec1ef46",
   "metadata": {},
   "outputs": [],
   "source": [
    "df = pd.read_csv(\"data/ExIn-BERTs.csv\", keep_default_na=False)"
   ]
  },
  {
   "cell_type": "code",
   "execution_count": null,
   "id": "86e94bac",
   "metadata": {},
   "outputs": [],
   "source": [
    "output = \"pretrained_model\""
   ]
  },
  {
   "cell_type": "code",
   "execution_count": null,
   "id": "e0e3e2b6",
   "metadata": {},
   "outputs": [],
   "source": [
    "llm = ExInClassifierGPT(\n",
    "  checkpoint=\"gpt2\",\n",
    "  seed=seed\n",
    ")"
   ]
  },
  {
   "cell_type": "code",
   "execution_count": null,
   "id": "4b6cb859",
   "metadata": {},
   "outputs": [],
   "source": [
    "llm = ExInClassifierBERT(\n",
    "  checkpoint=\"bert-base-uncased\",\n",
    "  seed=seed\n",
    ")"
   ]
  },
  {
   "cell_type": "code",
   "execution_count": null,
   "id": "3943700e",
   "metadata": {},
   "outputs": [],
   "source": [
    "llm = ExInClassifierDNABERT(\n",
    "  seed=seed\n",
    ").load_checkpoint()"
   ]
  },
  {
   "cell_type": "code",
   "execution_count": null,
   "id": "f6ad3d4d",
   "metadata": {},
   "outputs": [],
   "source": [
    "data = df.to_dict(orient=\"records\")"
   ]
  },
  {
   "cell_type": "code",
   "execution_count": null,
   "id": "444fe2f5",
   "metadata": {},
   "outputs": [],
   "source": [
    "all_dataset = []\n",
    "for record in tqdm(data):\n",
    "\texample = llm.build_input(\n",
    "\t\tsequence=record[\"sequence\"],\n",
    "\t\ttarget=record.get(\"target\"),\n",
    "\t\t#organism=record.get(\"organism\"),\n",
    "\t\t#gene=record.get(\"gene\"),\n",
    "\t\t#before=record.get(\"flankBefore\"),\n",
    "\t\t#after=record.get(\"flankAfter\")\n",
    "\t)\n",
    "\tall_dataset.append(example)\n",
    "\n",
    "train_dataset, test_dataset = train_test_split(\n",
    "    all_dataset,\n",
    "    test_size=0.05,\n",
    "    random_state=seed,\n",
    "    shuffle=True\n",
    ")"
   ]
  },
  {
   "cell_type": "code",
   "execution_count": null,
   "id": "5b88cb76",
   "metadata": {},
   "outputs": [],
   "source": [
    "llm.train(\n",
    "  dataset=train_dataset,\n",
    "  params=TrainParams(\n",
    "    epochs=1,\n",
    "    batch_size=1,\n",
    "    gradient_accumulation=1,\n",
    "    lr=2e-5\n",
    "\t)\n",
    ")"
   ]
  },
  {
   "cell_type": "code",
   "execution_count": null,
   "id": "5c71067c",
   "metadata": {},
   "outputs": [],
   "source": [
    "llm.save_pretrained(output)"
   ]
  },
  {
   "cell_type": "code",
   "execution_count": null,
   "id": "acd2a717",
   "metadata": {},
   "outputs": [],
   "source": [
    "y_true = []\n",
    "y_pred = []\n",
    "\n",
    "for data in tqdm(test_dataset):\n",
    "\tanswer = llm.generate(data)\n",
    "\ty_pred.append(answer)\n",
    "\ty_true.append(data[\"target\"])\n"
   ]
  },
  {
   "cell_type": "code",
   "execution_count": null,
   "id": "490cfdbc",
   "metadata": {},
   "outputs": [],
   "source": [
    "print(\"INTRON class:\")\n",
    "print(\"  Precision :\", precision_score(y_true, y_pred, pos_label=\"INTRON\"))\n",
    "print(\"  Recall    :\", recall_score(y_true, y_pred, pos_label=\"INTRON\"))\n",
    "print(\"  F1        :\", f1_score(y_true, y_pred, pos_label=\"INTRON\"))\n",
    "print()\n",
    "print(\"EXON class:\")\n",
    "print(\"  Precision :\", precision_score(y_true, y_pred, pos_label=\"EXON\"))\n",
    "print(\"  Recall    :\", recall_score(y_true, y_pred, pos_label=\"EXON\"))\n",
    "print(\"  F1        :\", f1_score(y_true, y_pred, pos_label=\"EXON\"))\n",
    "print()\n",
    "print(\"  Accuracy  :\", accuracy_score(y_true, y_pred))"
   ]
  }
 ],
 "metadata": {
  "kernelspec": {
   "display_name": "Python 3",
   "language": "python",
   "name": "python3"
  },
  "language_info": {
   "codemirror_mode": {
    "name": "ipython",
    "version": 3
   },
   "file_extension": ".py",
   "mimetype": "text/x-python",
   "name": "python",
   "nbconvert_exporter": "python",
   "pygments_lexer": "ipython3",
   "version": "3.13.5"
  }
 },
 "nbformat": 4,
 "nbformat_minor": 5
}
