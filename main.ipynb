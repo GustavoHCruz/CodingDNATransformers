{
 "cells": [
  {
   "cell_type": "code",
   "execution_count": null,
   "metadata": {},
   "outputs": [],
   "source": [
    "import pandas as pd\n",
    "import random\n",
    "\n",
    "from BERT_based import SpliceBERT\n",
    "from DNABERT_based import SpliceDNABERT\n",
    "from GPT_based import SpliceGPT"
   ]
  },
  {
   "cell_type": "markdown",
   "metadata": {},
   "source": [
    "## Datasets To Use"
   ]
  },
  {
   "cell_type": "code",
   "execution_count": null,
   "metadata": {},
   "outputs": [],
   "source": [
    "small_version = True"
   ]
  },
  {
   "cell_type": "code",
   "execution_count": null,
   "metadata": {},
   "outputs": [],
   "source": [
    "# Load 5M Seqs Dataset\n",
    "\n",
    "if small_version:\n",
    "\tdf = pd.read_csv(\"datasets/ExInSeqs_5M_small.csv\", keep_default_na=False)\n",
    "else:\n",
    "\tdf = pd.read_csv(\"datasets/ExInSeqs_5M.csv\", keep_default_na=False)\n",
    "\n",
    "sequence = df.iloc[:, 0].tolist()\n",
    "label = df.iloc[:, 1].tolist()\n",
    "organism = df.iloc[:, 2].tolist()\n",
    "gene = df.iloc[:, 3].tolist()\n",
    "flank_before = df.iloc[:, 4].tolist()\n",
    "flank_after = df.iloc[:, 5].tolist()"
   ]
  },
  {
   "cell_type": "code",
   "execution_count": null,
   "metadata": {},
   "outputs": [],
   "source": [
    "# Load 100k Seqs Dataset\n",
    "if small_version:\n",
    "  df = pd.read_csv(\"datasets/ExInSeqs_100k_small.csv\", keep_default_na=False)\n",
    "else:\n",
    "  df = pd.read_csv(\"datasets/ExInSeqs_100k.csv\", keep_default_na=False)\n",
    "\n",
    "sequence = df.iloc[:, 0].tolist()\n",
    "label = df.iloc[:, 1].tolist()\n",
    "organism = df.iloc[:, 2].tolist()\n",
    "gene = df.iloc[:, 3].tolist()\n",
    "flank_before = df.iloc[:, 4].tolist()\n",
    "flank_after = df.iloc[:, 5].tolist()"
   ]
  },
  {
   "cell_type": "code",
   "execution_count": null,
   "metadata": {},
   "outputs": [],
   "source": [
    "# Load 30k Seqs Dataset\n",
    "if small_version:\n",
    "  df = pd.read_csv(\"datasets/ExInSeqs_30k_small.csv\", keep_default_na=False)\n",
    "else:\n",
    "  df = pd.read_csv(\"datasets/ExInSeqs_30k.csv\", keep_default_na=False)\n",
    "\n",
    "sequence = df.iloc[:, 0].tolist()\n",
    "label = df.iloc[:, 1].tolist()\n",
    "organism = df.iloc[:, 2].tolist()\n",
    "gene = df.iloc[:, 3].tolist()\n",
    "flank_before = df.iloc[:, 4].tolist()\n",
    "flank_after = df.iloc[:, 5].tolist()"
   ]
  },
  {
   "cell_type": "code",
   "execution_count": null,
   "metadata": {},
   "outputs": [],
   "source": [
    "# Load 3k Seqs Dataset\n",
    "if small_version:\n",
    "  df = pd.read_csv(\"datasets/ExInSeqs_3k_small.csv\", keep_default_na=False)\n",
    "else:\n",
    "  df = pd.read_csv(\"datasets/ExInSeqs_3k.csv\", keep_default_na=False)\n",
    "\n",
    "sequence = df.iloc[:, 0].tolist()\n",
    "label = df.iloc[:, 1].tolist()\n",
    "organism = df.iloc[:, 2].tolist()\n",
    "gene = df.iloc[:, 3].tolist()\n",
    "flank_before = df.iloc[:, 4].tolist()\n",
    "flank_after = df.iloc[:, 5].tolist()"
   ]
  },
  {
   "cell_type": "markdown",
   "metadata": {},
   "source": [
    "## Loading Model"
   ]
  },
  {
   "cell_type": "code",
   "execution_count": null,
   "metadata": {},
   "outputs": [],
   "source": [
    "# From Scratch\n",
    "model = SpliceGPT(checkpoint=\"gpt2\", device=\"cuda\", seed=1234, notification=True, logs_dir=\"logs\", alias=\"gpt\", log_level=\"info\")"
   ]
  },
  {
   "cell_type": "code",
   "execution_count": null,
   "metadata": {},
   "outputs": [],
   "source": [
    "# From Scratch\n",
    "model = SpliceBERT(checkpoint=\"bert-base-uncased\", device=\"cuda\", seed=1234, notification=True, logs_dir=\"logs\", alias=\"bert\", log_level=\"info\")"
   ]
  },
  {
   "cell_type": "code",
   "execution_count": null,
   "metadata": {},
   "outputs": [],
   "source": [
    "# From Scratch\n",
    "model = SpliceDNABERT(checkpoint=\"zhihan1996/DNA_bert_6\", device=\"cuda\", seed=1234, notification=True, logs_dir=\"logs\", alias=\"dnabert\", log_level=\"info\")"
   ]
  },
  {
   "cell_type": "code",
   "execution_count": null,
   "metadata": {},
   "outputs": [],
   "source": [
    "# From Checkpoint\n",
    "model = SpliceGPT(checkpoint=\"gpt2\", device=\"cuda\", seed=1234, notification=True, logs_dir=\"logs\", alias=\"gpt2\", log_level=\"info\")"
   ]
  },
  {
   "cell_type": "code",
   "execution_count": null,
   "metadata": {},
   "outputs": [],
   "source": [
    "# From Checkpoint\n",
    "splicebert = SpliceBERT(checkpoint=\"bert\", device=\"cuda\", seed=1234, notification=True, logs_dir=\"logs\", alias=\"bert\", log_level=\"info\")"
   ]
  },
  {
   "cell_type": "code",
   "execution_count": null,
   "metadata": {},
   "outputs": [],
   "source": [
    "# From Checkpoint\n",
    "splicednabert = SpliceDNABERT(checkpoint=\"dnabert\", device=\"cuda\", seed=1234, notification=True, logs_dir=\"logs\", alias=\"dnabert\", log_level=\"info\")"
   ]
  },
  {
   "cell_type": "markdown",
   "metadata": {},
   "source": [
    "## Setting Train/Test DataLoader"
   ]
  },
  {
   "cell_type": "code",
   "execution_count": null,
   "metadata": {},
   "outputs": [],
   "source": [
    "data_config = {\n",
    "  \"flanks_len\": 10,\n",
    "  \"feat_hide_prob\": 0.4,\n",
    "}"
   ]
  },
  {
   "cell_type": "code",
   "execution_count": null,
   "metadata": {},
   "outputs": [],
   "source": [
    "model.add_train_data({\n",
    "  \"sequence\": sequence,\n",
    "  \"label\": label,\n",
    "  \"organism\": organism,\n",
    "  \"gene\": gene,\n",
    "  \"flank_before\": flank_before,\n",
    "  \"flank_after\": flank_after\n",
    "},  batch_size=32, sequence_len=128, train_percentage=0.8, data_config=data_config)"
   ]
  },
  {
   "cell_type": "markdown",
   "metadata": {},
   "source": [
    "## Updating Test DataLoader"
   ]
  },
  {
   "cell_type": "code",
   "execution_count": null,
   "metadata": {},
   "outputs": [],
   "source": [
    "# This can be used for generalization tests with completely new data\n",
    "\n",
    "model.add_test_data({\n",
    "  \"sequence\": sequence,\n",
    "  \"label\": label,\n",
    "  \"organism\": organism,\n",
    "  \"gene\": gene,\n",
    "  \"flank_before\": flank_before,\n",
    "  \"flank_after\": flank_after\n",
    "}, batch_size=32, sequence_len=128, data_config=data_config)"
   ]
  },
  {
   "cell_type": "markdown",
   "metadata": {},
   "source": [
    "## Training Pipeline"
   ]
  },
  {
   "cell_type": "code",
   "execution_count": null,
   "metadata": {},
   "outputs": [],
   "source": [
    "model.train(lr=0.00005, epochs=1, save_at_end=False, evaluation=False, keep_best=False, save_freq=1)"
   ]
  },
  {
   "cell_type": "markdown",
   "metadata": {},
   "source": [
    "## Eval Pipeline"
   ]
  },
  {
   "cell_type": "code",
   "execution_count": null,
   "metadata": {},
   "outputs": [],
   "source": [
    "model.evaluate()"
   ]
  },
  {
   "cell_type": "markdown",
   "metadata": {},
   "source": [
    "## Prediction Pipeline"
   ]
  },
  {
   "cell_type": "code",
   "execution_count": null,
   "metadata": {},
   "outputs": [],
   "source": [
    "# Predict Single\n",
    "\n",
    "idx = random.randint(0, len(sequence))\n",
    "\n",
    "print(f\"Sequence to Predict: {sequence[idx]}\")\n",
    "print(f\"True Ground: {label[idx]}\")\n",
    "print(f\"Gene: {gene[idx]}\")\n",
    "print(f\"Organism: {organism[idx]}\")\n",
    "print(f\"Flank Before: {flank_before[idx]}\")\n",
    "print(f\"Flank After: {flank_after[idx]}\")\n",
    "pred = model.predict_single({\"sequence\": sequence[idx]})\n",
    "print(f\"Prediction: {pred}\")"
   ]
  }
 ],
 "metadata": {
  "kernelspec": {
   "display_name": ".venv",
   "language": "python",
   "name": "python3"
  },
  "language_info": {
   "codemirror_mode": {
    "name": "ipython",
    "version": 3
   },
   "file_extension": ".py",
   "mimetype": "text/x-python",
   "name": "python",
   "nbconvert_exporter": "python",
   "pygments_lexer": "ipython3",
   "version": "3.12.3"
  }
 },
 "nbformat": 4,
 "nbformat_minor": 2
}
