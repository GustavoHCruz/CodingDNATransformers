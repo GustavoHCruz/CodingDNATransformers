{
 "cells": [
  {
   "cell_type": "code",
   "execution_count": 1,
   "metadata": {},
   "outputs": [],
   "source": [
    "import pandas as pd\n",
    "import random\n",
    "\n",
    "from BERT_based import SpliceBERT, SpliceDNABERT\n",
    "from GPT_based import SpliceGPT"
   ]
  },
  {
   "cell_type": "markdown",
   "metadata": {},
   "source": [
    "## Datasets To Use"
   ]
  },
  {
   "cell_type": "code",
   "execution_count": 2,
   "metadata": {},
   "outputs": [],
   "source": [
    "small_version = True"
   ]
  },
  {
   "cell_type": "code",
   "execution_count": 9,
   "metadata": {},
   "outputs": [],
   "source": [
    "# Load 11M Seqs Dataset\n",
    "\n",
    "df = pd.read_csv(\"datasets/ExInSeqs_11M.csv\", keep_default_na=False)\n",
    "\n",
    "sequence = df.iloc[:, 0].tolist()\n",
    "label = df.iloc[:, 1].tolist()\n",
    "organism = df.iloc[:, 2].tolist()\n",
    "gene = df.iloc[:, 3].tolist()\n",
    "flank_before = df.iloc[:, 4].tolist()\n",
    "flank_after = df.iloc[:, 5].tolist()"
   ]
  },
  {
   "cell_type": "code",
   "execution_count": 2,
   "metadata": {},
   "outputs": [],
   "source": [
    "# Load 100k Seqs Dataset\n",
    "if small_version:\n",
    "  df = pd.read_csv(\"datasets/ExInSeqs_100k_small.csv\", keep_default_na=False)\n",
    "else:\n",
    "  df = pd.read_csv(\"datasets/ExInSeqs_100k.csv\", keep_default_na=False)\n",
    "\n",
    "sequence = df.iloc[:, 0].tolist()\n",
    "label = df.iloc[:, 1].tolist()\n",
    "organism = df.iloc[:, 2].tolist()\n",
    "gene = df.iloc[:, 3].tolist()\n",
    "flank_before = df.iloc[:, 4].tolist()\n",
    "flank_after = df.iloc[:, 5].tolist()"
   ]
  },
  {
   "cell_type": "code",
   "execution_count": null,
   "metadata": {},
   "outputs": [],
   "source": [
    "# Load 30k Seqs Dataset\n",
    "if small_version:\n",
    "  df = pd.read_csv(\"datasets/ExInSeqs_30k_small.csv\", keep_default_na=False)\n",
    "else:\n",
    "  df = pd.read_csv(\"datasets/ExInSeqs_30k.csv\", keep_default_na=False)\n",
    "\n",
    "sequence = df.iloc[:, 0].tolist()\n",
    "label = df.iloc[:, 1].tolist()\n",
    "organism = df.iloc[:, 2].tolist()\n",
    "gene = df.iloc[:, 3].tolist()\n",
    "flank_before = df.iloc[:, 4].tolist()\n",
    "flank_after = df.iloc[:, 5].tolist()"
   ]
  },
  {
   "cell_type": "code",
   "execution_count": 3,
   "metadata": {},
   "outputs": [],
   "source": [
    "# Load 3k Seqs Dataset\n",
    "if small_version:\n",
    "  df = pd.read_csv(\"datasets/ExInSeqs_3k_small.csv\", keep_default_na=False)\n",
    "else:\n",
    "  df = pd.read_csv(\"datasets/ExInSeqs_3k.csv\", keep_default_na=False)\n",
    "\n",
    "sequence = df.iloc[:, 0].tolist()\n",
    "label = df.iloc[:, 1].tolist()\n",
    "organism = df.iloc[:, 2].tolist()\n",
    "gene = df.iloc[:, 3].tolist()\n",
    "flank_before = df.iloc[:, 4].tolist()\n",
    "flank_after = df.iloc[:, 5].tolist()"
   ]
  },
  {
   "cell_type": "markdown",
   "metadata": {},
   "source": [
    "## Loading Model"
   ]
  },
  {
   "cell_type": "code",
   "execution_count": null,
   "metadata": {},
   "outputs": [],
   "source": [
    "# From Scratch\n",
    "model = SpliceGPT(checkpoint=\"gpt2\", device=\"cuda\", seed=1234, notification=True, logs_dir=\"logs\", alias=\"gpt-001\")"
   ]
  },
  {
   "cell_type": "code",
   "execution_count": 4,
   "metadata": {},
   "outputs": [
    {
     "name": "stderr",
     "output_type": "stream",
     "text": [
      "Some weights of BertForSequenceClassification were not initialized from the model checkpoint at bert-base-uncased and are newly initialized: ['classifier.bias', 'classifier.weight']\n",
      "You should probably TRAIN this model on a down-stream task to be able to use it for predictions and inference.\n",
      "c:\\Users\\Gusta\\AppData\\Local\\Programs\\Python\\Python312\\Lib\\site-packages\\transformers\\tokenization_utils_base.py:1601: FutureWarning: `clean_up_tokenization_spaces` was not set. It will be set to `True` by default. This behavior will be depracted in transformers v4.45, and will be then set to `False` by default. For more details check this issue: https://github.com/huggingface/transformers/issues/31884\n",
      "  warnings.warn(\n"
     ]
    }
   ],
   "source": [
    "# From Scratch\n",
    "model = SpliceBERT(checkpoint=\"bert-base-uncased\", device=\"cuda\", seed=1234, notification=True, logs_dir=\"logs\", alias=\"bert-001\")"
   ]
  },
  {
   "cell_type": "code",
   "execution_count": null,
   "metadata": {},
   "outputs": [],
   "source": [
    "# From Scratch\n",
    "model = SpliceDNABERT(checkpoint=\"zhihan1996/DNA_bert_6\", device=\"cuda\", seed=1234, notification=True, logs_dir=\"logs\", alias=\"dnabert-001\")"
   ]
  },
  {
   "cell_type": "code",
   "execution_count": null,
   "metadata": {},
   "outputs": [],
   "source": [
    "# From Checkpoint\n",
    "model = SpliceGPT(checkpoint=\"gpt-001\", device=\"cuda\", seed=1234, notification=True, logs_dir=\"logs\", alias=\"gpt-001\")"
   ]
  },
  {
   "cell_type": "code",
   "execution_count": null,
   "metadata": {},
   "outputs": [],
   "source": [
    "# From Checkpoint\n",
    "splicebert = SpliceBERT(checkpoint=\"bert-001\", device=\"cuda\", seed=1234, notification=True, logs_dir=\"logs\", alias=\"bert-001\")"
   ]
  },
  {
   "cell_type": "code",
   "execution_count": null,
   "metadata": {},
   "outputs": [],
   "source": [
    "# From Checkpoint\n",
    "splicednabert = SpliceDNABERT(checkpoint=\"dnabert-001\", device=\"cuda\", seed=1234, notification=True, logs_dir=\"logs\", alias=\"dnabert-001\")"
   ]
  },
  {
   "cell_type": "markdown",
   "metadata": {},
   "source": [
    "## Setting Train/Test DataLoader"
   ]
  },
  {
   "cell_type": "code",
   "execution_count": 5,
   "metadata": {},
   "outputs": [],
   "source": [
    "data_config = {\n",
    "  \"flanks_len\": 10,\n",
    "  \"feat_hide_prob\": 0.4,\n",
    "}"
   ]
  },
  {
   "cell_type": "code",
   "execution_count": 6,
   "metadata": {},
   "outputs": [],
   "source": [
    "model.add_train_data({\n",
    "  \"sequence\": sequence,\n",
    "  \"label\": label,\n",
    "  \"organism\": organism,\n",
    "  \"gene\": gene,\n",
    "  \"flank_before\": flank_before,\n",
    "  \"flank_after\": flank_after\n",
    "},  batch_size=32, sequence_len=128, train_percentage=0.8, data_config=data_config)"
   ]
  },
  {
   "cell_type": "markdown",
   "metadata": {},
   "source": [
    "## Updating Test DataLoader"
   ]
  },
  {
   "cell_type": "code",
   "execution_count": 9,
   "metadata": {},
   "outputs": [],
   "source": [
    "# This can be used for generalization tests with completely new data\n",
    "\n",
    "model.add_test_data({\n",
    "  \"sequence\": sequence,\n",
    "  \"label\": label,\n",
    "  \"organism\": organism,\n",
    "  \"gene\": gene,\n",
    "  \"flank_before\": flank_before,\n",
    "  \"flank_after\": flank_after\n",
    "}, batch_size=32, sequence_len=128, data_config=data_config)"
   ]
  },
  {
   "cell_type": "markdown",
   "metadata": {},
   "source": [
    "## Training Pipeline"
   ]
  },
  {
   "cell_type": "code",
   "execution_count": 7,
   "metadata": {},
   "outputs": [
    {
     "data": {
      "application/vnd.jupyter.widget-view+json": {
       "model_id": "513cb0d770354f759fd83c7f37d4ddc9",
       "version_major": 2,
       "version_minor": 0
      },
      "text/plain": [
       "Training Epoch 1/1:   0%|          | 0/75 [00:00<?, ?it/s]"
      ]
     },
     "metadata": {},
     "output_type": "display_data"
    }
   ],
   "source": [
    "model.train(lr=0.00005, epochs=1, save_at_end=False, evaluation=False, keep_best=False, save_freq=1)"
   ]
  },
  {
   "cell_type": "markdown",
   "metadata": {},
   "source": [
    "## Eval Pipeline"
   ]
  },
  {
   "cell_type": "code",
   "execution_count": 10,
   "metadata": {},
   "outputs": [
    {
     "data": {
      "application/vnd.jupyter.widget-view+json": {
       "model_id": "5580b9e90dc8469c9e27d967df968a1b",
       "version_major": 2,
       "version_minor": 0
      },
      "text/plain": [
       "Evaluating:   0%|          | 0/94 [00:00<?, ?it/s]"
      ]
     },
     "metadata": {},
     "output_type": "display_data"
    },
    {
     "name": "stdout",
     "output_type": "stream",
     "text": [
      "Evaluation complete\n",
      "Average loss: 0.6982\n",
      "Overall Accuracy: 0.5000\n",
      "Exon accuracy: 1.0000\n",
      "Intron accuracy: 0.0000\n"
     ]
    }
   ],
   "source": [
    "model.evaluate()"
   ]
  },
  {
   "cell_type": "markdown",
   "metadata": {},
   "source": [
    "## Prediction Pipeline"
   ]
  },
  {
   "cell_type": "code",
   "execution_count": 11,
   "metadata": {},
   "outputs": [
    {
     "name": "stdout",
     "output_type": "stream",
     "text": [
      "Sequence to Predict: CTGCAAGAATTAGATCATAGTTCATTAAAACACAATCTTTACCCTCCACCTAC\n",
      "True Ground: intron\n",
      "Gene: \n",
      "Organism: Rhynchosporium commune\n",
      "Flank Before: GGGTTATTAT\n",
      "Flank After: AAGGATTCCG\n",
      "Prediction: exon\n"
     ]
    }
   ],
   "source": [
    "# Predict Single\n",
    "\n",
    "idx = random.randint(0, len(sequence))\n",
    "\n",
    "print(f\"Sequence to Predict: {sequence[idx]}\")\n",
    "print(f\"True Ground: {label[idx]}\")\n",
    "print(f\"Gene: {gene[idx]}\")\n",
    "print(f\"Organism: {organism[idx]}\")\n",
    "print(f\"Flank Before: {flank_before[idx]}\")\n",
    "print(f\"Flank After: {flank_after[idx]}\")\n",
    "pred = model.predict_single({\"sequence\": sequence[idx]})\n",
    "print(f\"Prediction: {pred}\")"
   ]
  }
 ],
 "metadata": {
  "kernelspec": {
   "display_name": "Python 3",
   "language": "python",
   "name": "python3"
  },
  "language_info": {
   "codemirror_mode": {
    "name": "ipython",
    "version": 3
   },
   "file_extension": ".py",
   "mimetype": "text/x-python",
   "name": "python",
   "nbconvert_exporter": "python",
   "pygments_lexer": "ipython3",
   "version": "3.12.3"
  }
 },
 "nbformat": 4,
 "nbformat_minor": 2
}
