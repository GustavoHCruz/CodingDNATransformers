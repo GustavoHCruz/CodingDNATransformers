{
 "cells": [
  {
   "cell_type": "code",
   "execution_count": 1,
   "metadata": {},
   "outputs": [],
   "source": [
    "import pandas as pd\n",
    "from GPT_based import SpliceGPT\n",
    "from BERT_based import SpliceBERT, SpliceDNABERT\n",
    "\n",
    "from genbank_dataset_extraction import splicing_sites_extraction"
   ]
  },
  {
   "cell_type": "markdown",
   "metadata": {},
   "source": [
    "## Datasets Creation"
   ]
  },
  {
   "cell_type": "code",
   "execution_count": null,
   "metadata": {},
   "outputs": [],
   "source": [
    "splicing_sites_extraction(\"datasets/ExInSeqs.gb\", \"datasets/ExinSeqs_11M.csv\")"
   ]
  },
  {
   "cell_type": "code",
   "execution_count": null,
   "metadata": {},
   "outputs": [],
   "source": [
    "df = pd.read_csv(\"datasets/ExInSeqs_11M.csv\", keep_default_na=False)"
   ]
  },
  {
   "cell_type": "code",
   "execution_count": 4,
   "metadata": {},
   "outputs": [],
   "source": [
    "shuffled_df = df.sample(frac=1).reset_index(drop=True)"
   ]
  },
  {
   "cell_type": "code",
   "execution_count": 8,
   "metadata": {},
   "outputs": [],
   "source": [
    "df_exons = shuffled_df[shuffled_df[\"label\"] == \"exon\"]\n",
    "df_introns = shuffled_df[shuffled_df[\"label\"] == \"intron\"]"
   ]
  },
  {
   "cell_type": "code",
   "execution_count": null,
   "metadata": {},
   "outputs": [],
   "source": [
    "df_exons_small = df_exons[df_exons[\"sequence\"].str.len() < 128]\n",
    "df_introns_small = df_introns[df_introns[\"sequence\"].str.len() < 128]"
   ]
  },
  {
   "cell_type": "code",
   "execution_count": null,
   "metadata": {},
   "outputs": [],
   "source": [
    "print(len(df_exons))\n",
    "print(len(df_exons_small))\n",
    "print(len(df_introns))\n",
    "print(len(df_introns_small))"
   ]
  },
  {
   "cell_type": "code",
   "execution_count": null,
   "metadata": {},
   "outputs": [],
   "source": [
    "df_3k = pd.concat([df_exons.sample(n=1500), df_introns.sample(n=1500)])\n",
    "df_3k = df_3k.sample(frac=1).reset_index(drop=True)\n",
    "print(f\"Exons: {len(df_3k[df_3k[\"label\"] == \"exon\"])}\")\n",
    "print(f\"Introns: {len(df_3k[df_3k[\"label\"] == \"intron\"])}\")\n",
    "print(f\"Total Len: {len(df_3k)}\")\n",
    "\n",
    "df_3k.to_csv(\"datasets/ExInSeqs_3k.csv\", index=False)"
   ]
  },
  {
   "cell_type": "code",
   "execution_count": null,
   "metadata": {},
   "outputs": [],
   "source": [
    "df_3k_small = pd.concat([df_exons_small.sample(n=1500), df_introns_small.sample(n=1500)])\n",
    "df_3k_small = df_3k_small.sample(frac=1).reset_index(drop=True)\n",
    "print(f\"Exons: {len(df_3k_small[df_3k_small[\"label\"] == \"exon\"])}\")\n",
    "print(f\"Introns: {len(df_3k_small[df_3k_small[\"label\"] == \"intron\"])}\")\n",
    "print(f\"Total Len: {len(df_3k_small)}\")\n",
    "\n",
    "df_3k_small.to_csv(\"datasets/ExInSeqs_3k_small.csv\", index=False)"
   ]
  },
  {
   "cell_type": "code",
   "execution_count": null,
   "metadata": {},
   "outputs": [],
   "source": [
    "df_100k = pd.concat([df_exons.sample(n=50000), df_introns.sample(n=50000)])\n",
    "df_100k = df_100k.sample(frac=1).reset_index(drop=True)\n",
    "print(f\"Exons: {len(df_100k[df_100k[\"label\"] == \"exon\"])}\")\n",
    "print(f\"Introns: {len(df_100k[df_100k[\"label\"] == \"intron\"])}\")\n",
    "print(f\"Total Len: {len(df_100k)}\")\n",
    "\n",
    "df_100k.to_csv(\"datasets/ExInSeqs_100k.csv\", index=False)"
   ]
  },
  {
   "cell_type": "code",
   "execution_count": null,
   "metadata": {},
   "outputs": [],
   "source": [
    "df_100k_small = pd.concat([df_exons_small.sample(n=50000), df_introns_small.sample(n=50000)])\n",
    "df_100k_small = df_100k_small.sample(frac=1).reset_index(drop=True)\n",
    "print(f\"Exons: {len(df_100k_small[df_100k_small[\"label\"] == \"exon\"])}\")\n",
    "print(f\"Introns: {len(df_100k_small[df_100k_small[\"label\"] == \"intron\"])}\")\n",
    "print(f\"Total Len: {len(df_100k_small)}\")\n",
    "\n",
    "df_100k_small.to_csv(\"datasets/ExInSeqs_100k_small.csv\", index=False)"
   ]
  },
  {
   "cell_type": "markdown",
   "metadata": {},
   "source": [
    "## Datasets To Use"
   ]
  },
  {
   "cell_type": "code",
   "execution_count": 9,
   "metadata": {},
   "outputs": [],
   "source": [
    "# Load 11M Seqs Dataset\n",
    "\n",
    "df = pd.read_csv(\"datasets/ExInSeqs_11M.csv\", keep_default_na=False)\n",
    "\n",
    "sequence = df.iloc[:, 0].tolist()\n",
    "label = df.iloc[:, 1].tolist()\n",
    "organism = df.iloc[:, 2].tolist()\n",
    "gene = df.iloc[:, 3].tolist()\n",
    "flank_before = df.iloc[:, 4].tolist()\n",
    "flank_after = df.iloc[:, 5].tolist()"
   ]
  },
  {
   "cell_type": "code",
   "execution_count": 2,
   "metadata": {},
   "outputs": [],
   "source": [
    "# Load 100k Seqs Dataset\n",
    "\n",
    "df = pd.read_csv(\"datasets/ExInSeqs_100k_small.csv\", keep_default_na=False)\n",
    "\n",
    "sequence = df.iloc[:, 0].tolist()\n",
    "label = df.iloc[:, 1].tolist()\n",
    "organism = df.iloc[:, 2].tolist()\n",
    "gene = df.iloc[:, 3].tolist()\n",
    "flank_before = df.iloc[:, 4].tolist()\n",
    "flank_after = df.iloc[:, 5].tolist()"
   ]
  },
  {
   "cell_type": "code",
   "execution_count": 2,
   "metadata": {},
   "outputs": [],
   "source": [
    "# Load 3k Seqs Dataset\n",
    "\n",
    "df = pd.read_csv(\"datasets/ExInSeqs_3k_small.csv\", keep_default_na=False)\n",
    "\n",
    "sequence = df.iloc[:, 0].tolist()\n",
    "label = df.iloc[:, 1].tolist()\n",
    "organism = df.iloc[:, 2].tolist()\n",
    "gene = df.iloc[:, 3].tolist()\n",
    "flank_before = df.iloc[:, 4].tolist()\n",
    "flank_after = df.iloc[:, 5].tolist()"
   ]
  },
  {
   "cell_type": "markdown",
   "metadata": {},
   "source": [
    "## Loading Model"
   ]
  },
  {
   "cell_type": "code",
   "execution_count": null,
   "metadata": {},
   "outputs": [],
   "source": [
    "# From Scratch\n",
    "\n",
    "splicegpt = SpliceGPT(checkpoint=\"gpt2\", device=\"cuda\", seed=1234, notification=True, logs_dir=\"logs\", alias=\"gpt-001\")\n",
    "splicebert = SpliceBERT(checkpoint=\"bert-base-uncased\", device=\"cuda\", seed=1234, notification=True, logs_dir=\"logs\", alias=\"bert-001\")\n",
    "splicednabert = SpliceDNABERT(checkpoint=\"zhihan1996/DNA_bert_6\", device=\"cuda\", seed=1234, notification=True, logs_dir=\"logs\", alias=\"dnabert-001\")"
   ]
  },
  {
   "cell_type": "code",
   "execution_count": null,
   "metadata": {},
   "outputs": [],
   "source": [
    "# From Checkpoint\n",
    "\n",
    "splicegpt = SpliceGPT(checkpoint=\"gpt-001\", device=\"cuda\", seed=1234, notification=True, logs_dir=\"logs\", alias=\"gpt-001\")\n",
    "splicebert = SpliceBERT(checkpoint=\"bert-001\", device=\"cuda\", seed=1234, notification=True, logs_dir=\"logs\", alias=\"bert-001\")\n",
    "splicednabert = SpliceDNABERT(checkpoint=\"dnabert-001\", device=\"cuda\", seed=1234, notification=True, logs_dir=\"logs\", alias=\"dnabert-001\")"
   ]
  },
  {
   "cell_type": "markdown",
   "metadata": {},
   "source": [
    "## Setting Train/Test DataLoader"
   ]
  },
  {
   "cell_type": "code",
   "execution_count": 4,
   "metadata": {},
   "outputs": [],
   "source": [
    "splicegpt.add_train_data({\n",
    "  \"sequence\": sequence,\n",
    "  \"label\": label,\n",
    "  \"organism\": organism,\n",
    "  \"gene\": gene,\n",
    "  \"flank_before\": flank_before,\n",
    "  \"flank_after\": flank_after\n",
    "}, sequence_len=256, flanks_len=10, batch_size=16, train_percentage=0.8, feat_hide_prob=0.4)"
   ]
  },
  {
   "cell_type": "markdown",
   "metadata": {},
   "source": [
    "## Updating Test DataLoader"
   ]
  },
  {
   "cell_type": "code",
   "execution_count": 4,
   "metadata": {},
   "outputs": [],
   "source": [
    "# This can be used for generalization tests with completely new data\n",
    "\n",
    "splicegpt.add_test_data({\n",
    "  \"sequence\": sequence,\n",
    "  \"label\": label,\n",
    "  \"organism\": organism,\n",
    "  \"gene\": gene,\n",
    "  \"flank_before\": flank_before,\n",
    "  \"flank_after\": flank_after\n",
    "}, sequence_len=256, flanks_len=10, batch_size=32, feat_hide_prob=0.8)"
   ]
  },
  {
   "cell_type": "markdown",
   "metadata": {},
   "source": [
    "## Training Pipeline"
   ]
  },
  {
   "cell_type": "code",
   "execution_count": null,
   "metadata": {},
   "outputs": [],
   "source": [
    "splicegpt.train(lr=0.0005, epochs=3, save_at_end=True, evaluation=True, keep_best=False, save_freq=1)"
   ]
  },
  {
   "cell_type": "markdown",
   "metadata": {},
   "source": [
    "## Eval Pipeline"
   ]
  },
  {
   "cell_type": "code",
   "execution_count": null,
   "metadata": {},
   "outputs": [],
   "source": [
    "splicegpt.evaluate()"
   ]
  },
  {
   "cell_type": "markdown",
   "metadata": {},
   "source": [
    "## Prediction Pipeline"
   ]
  },
  {
   "cell_type": "code",
   "execution_count": null,
   "metadata": {},
   "outputs": [],
   "source": [
    "# Predict Single\n",
    "\n",
    "idx = 8\n",
    "\n",
    "print(f\"Sequence to Predict: {sequence[idx]}\")\n",
    "print(f\"True Ground: {label[idx]}\")\n",
    "print(f\"Gene: {gene[idx]}\")\n",
    "print(f\"Organism: {organism[idx]}\")\n",
    "print(f\"Flank Before: {flank_before[idx]}\")\n",
    "print(f\"Flank After: {flank_after[idx]}\")\n",
    "pred = splicegpt.predict_single({\"sequence\": sequence[idx]})\n",
    "print(f\"Prediction: {pred}\")"
   ]
  }
 ],
 "metadata": {
  "kernelspec": {
   "display_name": "Python 3",
   "language": "python",
   "name": "python3"
  },
  "language_info": {
   "codemirror_mode": {
    "name": "ipython",
    "version": 3
   },
   "file_extension": ".py",
   "mimetype": "text/x-python",
   "name": "python",
   "nbconvert_exporter": "python",
   "pygments_lexer": "ipython3",
   "version": "3.12.3"
  }
 },
 "nbformat": 4,
 "nbformat_minor": 2
}
