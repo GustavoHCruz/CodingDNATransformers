{
 "cells": [
  {
   "cell_type": "code",
   "execution_count": 1,
   "metadata": {},
   "outputs": [],
   "source": [
    "import pandas as pd\n",
    "from SpliceGPT import SpliceGPT\n",
    "\n",
    "from genbank_dataset_extraction import splicing_sites_extraction"
   ]
  },
  {
   "cell_type": "markdown",
   "metadata": {},
   "source": [
    "## Datasets Creation"
   ]
  },
  {
   "cell_type": "code",
   "execution_count": null,
   "metadata": {},
   "outputs": [],
   "source": [
    "splicing_sites_extraction(\"datasets/ExInSeqs.gb\", \"datasets/ExinSeqs_11M.csv\")"
   ]
  },
  {
   "cell_type": "code",
   "execution_count": null,
   "metadata": {},
   "outputs": [],
   "source": [
    "df = pd.read_csv(\"datasets/ExInSeqs_11M.csv\", keep_default_na=False)"
   ]
  },
  {
   "cell_type": "code",
   "execution_count": 4,
   "metadata": {},
   "outputs": [],
   "source": [
    "shuffled_df = df.sample(frac=1).reset_index(drop=True)"
   ]
  },
  {
   "cell_type": "code",
   "execution_count": 8,
   "metadata": {},
   "outputs": [],
   "source": [
    "df_exons = shuffled_df[shuffled_df[\"label\"] == \"exon\"]\n",
    "df_introns = shuffled_df[shuffled_df[\"label\"] == \"intron\"]"
   ]
  },
  {
   "cell_type": "code",
   "execution_count": null,
   "metadata": {},
   "outputs": [],
   "source": [
    "df_exons_small = df_exons[df_exons[\"sequence\"].str.len() < 128]\n",
    "df_introns_small = df_introns[df_introns[\"sequence\"].str.len() < 128]"
   ]
  },
  {
   "cell_type": "code",
   "execution_count": null,
   "metadata": {},
   "outputs": [],
   "source": [
    "print(len(df_exons))\n",
    "print(len(df_exons_small))\n",
    "print(len(df_introns))\n",
    "print(len(df_introns_small))"
   ]
  },
  {
   "cell_type": "code",
   "execution_count": null,
   "metadata": {},
   "outputs": [],
   "source": [
    "df_3k = pd.concat([df_exons.sample(n=1500), df_introns.sample(n=1500)])\n",
    "df_3k = df_3k.sample(frac=1).reset_index(drop=True)\n",
    "print(f\"Exons: {len(df_3k[df_3k[\"label\"] == \"exon\"])}\")\n",
    "print(f\"Introns: {len(df_3k[df_3k[\"label\"] == \"intron\"])}\")\n",
    "print(f\"Total Len: {len(df_3k)}\")\n",
    "\n",
    "df_3k.to_csv(\"datasets/ExInSeqs_3k.csv\", index=False)"
   ]
  },
  {
   "cell_type": "code",
   "execution_count": null,
   "metadata": {},
   "outputs": [],
   "source": [
    "df_3k_small = pd.concat([df_exons_small.sample(n=1500), df_introns_small.sample(n=1500)])\n",
    "df_3k_small = df_3k_small.sample(frac=1).reset_index(drop=True)\n",
    "print(f\"Exons: {len(df_3k_small[df_3k_small[\"label\"] == \"exon\"])}\")\n",
    "print(f\"Introns: {len(df_3k_small[df_3k_small[\"label\"] == \"intron\"])}\")\n",
    "print(f\"Total Len: {len(df_3k_small)}\")\n",
    "\n",
    "df_3k_small.to_csv(\"datasets/ExInSeqs_3k_small.csv\", index=False)"
   ]
  },
  {
   "cell_type": "code",
   "execution_count": null,
   "metadata": {},
   "outputs": [],
   "source": [
    "df_100k = pd.concat([df_exons.sample(n=50000), df_introns.sample(n=50000)])\n",
    "df_100k = df_100k.sample(frac=1).reset_index(drop=True)\n",
    "print(f\"Exons: {len(df_100k[df_100k[\"label\"] == \"exon\"])}\")\n",
    "print(f\"Introns: {len(df_100k[df_100k[\"label\"] == \"intron\"])}\")\n",
    "print(f\"Total Len: {len(df_100k)}\")\n",
    "\n",
    "df_100k.to_csv(\"datasets/ExInSeqs_100k.csv\", index=False)"
   ]
  },
  {
   "cell_type": "code",
   "execution_count": null,
   "metadata": {},
   "outputs": [],
   "source": [
    "df_100k_small = pd.concat([df_exons_small.sample(n=50000), df_introns_small.sample(n=50000)])\n",
    "df_100k_small = df_100k_small.sample(frac=1).reset_index(drop=True)\n",
    "print(f\"Exons: {len(df_100k_small[df_100k_small[\"label\"] == \"exon\"])}\")\n",
    "print(f\"Introns: {len(df_100k_small[df_100k_small[\"label\"] == \"intron\"])}\")\n",
    "print(f\"Total Len: {len(df_100k_small)}\")\n",
    "\n",
    "df_100k_small.to_csv(\"datasets/ExInSeqs_100k_small.csv\", index=False)"
   ]
  },
  {
   "cell_type": "markdown",
   "metadata": {},
   "source": [
    "## Datasets To Use"
   ]
  },
  {
   "cell_type": "code",
   "execution_count": 9,
   "metadata": {},
   "outputs": [],
   "source": [
    "# Load 11M Seqs Dataset\n",
    "\n",
    "df = pd.read_csv(\"datasets/ExInSeqs_11M.csv\", keep_default_na=False)\n",
    "\n",
    "sequence = df.iloc[:, 0].tolist()\n",
    "label = df.iloc[:, 1].tolist()\n",
    "organism = df.iloc[:, 2].tolist()\n",
    "gene = df.iloc[:, 3].tolist()\n",
    "flank_before = df.iloc[:, 4].tolist()\n",
    "flank_after = df.iloc[:, 5].tolist()"
   ]
  },
  {
   "cell_type": "code",
   "execution_count": 13,
   "metadata": {},
   "outputs": [],
   "source": [
    "# Load 100k Seqs Dataset\n",
    "\n",
    "df = pd.read_csv(\"datasets/ExInSeqs_100k_small.csv\", keep_default_na=False)\n",
    "\n",
    "sequence = df.iloc[:, 0].tolist()\n",
    "label = df.iloc[:, 1].tolist()\n",
    "organism = df.iloc[:, 2].tolist()\n",
    "gene = df.iloc[:, 3].tolist()\n",
    "flank_before = df.iloc[:, 4].tolist()\n",
    "flank_after = df.iloc[:, 5].tolist()"
   ]
  },
  {
   "cell_type": "code",
   "execution_count": 2,
   "metadata": {},
   "outputs": [],
   "source": [
    "# Load 30k from 100k Seqs Dataset\n",
    "\n",
    "df = pd.read_csv(\"datasets/ExInSeqs_100k_small.csv\", keep_default_na=False)\n",
    "\n",
    "sequence = df.iloc[:30000, 0].tolist()\n",
    "label = df.iloc[:30000, 1].tolist()\n",
    "organism = df.iloc[:30000, 2].tolist()\n",
    "gene = df.iloc[:30000, 3].tolist()\n",
    "flank_before = df.iloc[:30000, 4].tolist()\n",
    "flank_after = df.iloc[:30000, 5].tolist()"
   ]
  },
  {
   "cell_type": "code",
   "execution_count": null,
   "metadata": {},
   "outputs": [],
   "source": [
    "# Load 3k Seqs Dataset\n",
    "\n",
    "df = pd.read_csv(\"datasets/ExInSeqs_3k_small.csv\", keep_default_na=False)\n",
    "\n",
    "sequence = df.iloc[:, 0].tolist()\n",
    "label = df.iloc[:, 1].tolist()\n",
    "organism = df.iloc[:, 2].tolist()\n",
    "gene = df.iloc[:, 3].tolist()\n",
    "flank_before = df.iloc[:, 4].tolist()\n",
    "flank_after = df.iloc[:, 5].tolist()"
   ]
  },
  {
   "cell_type": "markdown",
   "metadata": {},
   "source": [
    "## Loading Model"
   ]
  },
  {
   "cell_type": "code",
   "execution_count": null,
   "metadata": {},
   "outputs": [],
   "source": [
    "# From Scratch\n",
    "\n",
    "splicegpt = SpliceGPT()"
   ]
  },
  {
   "cell_type": "code",
   "execution_count": 3,
   "metadata": {},
   "outputs": [],
   "source": [
    "# From Default Checkpoint\n",
    "\n",
    "splicegpt = SpliceGPT(\"models/splicegpt\")"
   ]
  },
  {
   "cell_type": "markdown",
   "metadata": {},
   "source": [
    "## Setting Train/Test DataLoader"
   ]
  },
  {
   "cell_type": "code",
   "execution_count": null,
   "metadata": {},
   "outputs": [],
   "source": [
    "splicegpt.add_data({\n",
    "  \"sequence\": sequence,\n",
    "  \"label\": label,\n",
    "  \"organism\": organism,\n",
    "  \"gene\": gene,\n",
    "  \"flank_before\": flank_before,\n",
    "  \"flank_after\": flank_after\n",
    "}, feat_hide_prob=0.2, train_percentage=0.9, sequence_len=256, flanks_len=10, batch_size=32)"
   ]
  },
  {
   "cell_type": "markdown",
   "metadata": {},
   "source": [
    "## Updating Test DataLoader"
   ]
  },
  {
   "cell_type": "code",
   "execution_count": 14,
   "metadata": {},
   "outputs": [
    {
     "name": "stdout",
     "output_type": "stream",
     "text": [
      "Detected a different test dataloader configuration than the one used during training. This may lead to suboptimal results.\n"
     ]
    }
   ],
   "source": [
    "# This can be used for generalization tests with completely new data\n",
    "\n",
    "splicegpt.add_test_data({\n",
    "  \"sequence\": sequence,\n",
    "  \"label\": label,\n",
    "  \"organism\": organism,\n",
    "  \"gene\": gene,\n",
    "  \"flank_before\": flank_before,\n",
    "  \"flank_after\": flank_after\n",
    "}, feat_hide_prob=0.8, sequence_len=256, flanks_len=10, batch_size=32)"
   ]
  },
  {
   "cell_type": "markdown",
   "metadata": {},
   "source": [
    "## Training Pipeline"
   ]
  },
  {
   "cell_type": "code",
   "execution_count": null,
   "metadata": {},
   "outputs": [],
   "source": [
    "# Train the model, but don't save it at the end (still can be done later)\n",
    "\n",
    "splicegpt.train()"
   ]
  },
  {
   "cell_type": "code",
   "execution_count": null,
   "metadata": {},
   "outputs": [],
   "source": [
    "# Save at the default checkpoint\n",
    "\n",
    "splicegpt.train(save_at_end=\"models/splicegpt\")"
   ]
  },
  {
   "cell_type": "markdown",
   "metadata": {},
   "source": [
    "## Eval Pipeline"
   ]
  },
  {
   "cell_type": "code",
   "execution_count": 8,
   "metadata": {},
   "outputs": [
    {
     "data": {
      "application/vnd.jupyter.widget-view+json": {
       "model_id": "f88e206018a946e1ac575fc826ad5c72",
       "version_major": 2,
       "version_minor": 0
      },
      "text/plain": [
       "Evaluating:   0%|          | 0/3125 [00:00<?, ?it/s]"
      ]
     },
     "metadata": {},
     "output_type": "display_data"
    }
   ],
   "source": [
    "splicegpt.evaluate()"
   ]
  },
  {
   "cell_type": "markdown",
   "metadata": {},
   "source": [
    "## Prediction Pipeline"
   ]
  },
  {
   "cell_type": "code",
   "execution_count": 7,
   "metadata": {},
   "outputs": [
    {
     "name": "stdout",
     "output_type": "stream",
     "text": [
      "Sequence to Predict: CTAAAAATAAACAAAGAAAAATATTTTTTTTTCTTTTAATCGAAAATAAATAATATTTAC\n",
      "True Ground: intron\n",
      "Gene: \n",
      "Organism: Rotaria sp. Silwood2\n",
      "Flank Before: ATAAAGGCAA\n",
      "Flank After: TGCTCCCGGT\n",
      "Prediction: [INTRON]\n"
     ]
    }
   ],
   "source": [
    "# Predict Single\n",
    "\n",
    "idx = 3\n",
    "\n",
    "print(f\"Sequence to Predict: {sequence[idx]}\")\n",
    "print(f\"True Ground: {label[idx]}\")\n",
    "print(f\"Gene: {gene[idx]}\")\n",
    "print(f\"Organism: {organism[idx]}\")\n",
    "print(f\"Flank Before: {flank_before[idx]}\")\n",
    "print(f\"Flank After: {flank_after[idx]}\")\n",
    "pred = splicegpt.predict(sequence[idx])\n",
    "print(f\"Prediction: {pred}\")"
   ]
  }
 ],
 "metadata": {
  "kernelspec": {
   "display_name": "Python 3",
   "language": "python",
   "name": "python3"
  },
  "language_info": {
   "codemirror_mode": {
    "name": "ipython",
    "version": 3
   },
   "file_extension": ".py",
   "mimetype": "text/x-python",
   "name": "python",
   "nbconvert_exporter": "python",
   "pygments_lexer": "ipython3",
   "version": "3.12.3"
  }
 },
 "nbformat": 4,
 "nbformat_minor": 2
}
