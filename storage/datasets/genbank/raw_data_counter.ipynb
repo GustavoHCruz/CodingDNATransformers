{
 "cells": [
  {
   "cell_type": "code",
   "execution_count": 1,
   "id": "51864c50",
   "metadata": {},
   "outputs": [],
   "source": [
    "from Bio import SeqIO"
   ]
  },
  {
   "cell_type": "code",
   "execution_count": 2,
   "id": "c5c1317d",
   "metadata": {},
   "outputs": [],
   "source": [
    "count = 0"
   ]
  },
  {
   "cell_type": "code",
   "execution_count": 4,
   "id": "dd0b2b3f",
   "metadata": {},
   "outputs": [],
   "source": [
    "with open(\"genbank_2456163.gb\", \"r\") as gb_file:\n",
    "    for record in SeqIO.parse(gb_file, \"genbank\"):\n",
    "        try:\n",
    "            _ = record.seq\n",
    "            count += 1\n",
    "        except Exception as e:\n",
    "            print(\"Erro ao processar um registro:\", e)"
   ]
  },
  {
   "cell_type": "code",
   "execution_count": 5,
   "id": "76fa0b0c",
   "metadata": {},
   "outputs": [
    {
     "name": "stdout",
     "output_type": "stream",
     "text": [
      "Total de registros lidos: 2456163\n"
     ]
    }
   ],
   "source": [
    "print(\"Total de registros lidos:\", count)"
   ]
  }
 ],
 "metadata": {
  "kernelspec": {
   "display_name": "Python 3",
   "language": "python",
   "name": "python3"
  },
  "language_info": {
   "codemirror_mode": {
    "name": "ipython",
    "version": 3
   },
   "file_extension": ".py",
   "mimetype": "text/x-python",
   "name": "python",
   "nbconvert_exporter": "python",
   "pygments_lexer": "ipython3",
   "version": "3.13.5"
  }
 },
 "nbformat": 4,
 "nbformat_minor": 5
}
