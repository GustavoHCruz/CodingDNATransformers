{
 "cells": [
  {
   "cell_type": "code",
   "execution_count": 1,
   "id": "8e11a9d3",
   "metadata": {},
   "outputs": [],
   "source": [
    "import csv\n",
    "from itertools import islice\n",
    "from typing import Iterator\n",
    "\n",
    "from tqdm import tqdm\n",
    "\n",
    "from data_processor.raw_extractor import extract_data\n",
    "from schemas.tables_data import DNASequence"
   ]
  },
  {
   "cell_type": "code",
   "execution_count": null,
   "id": "7684c342",
   "metadata": {},
   "outputs": [],
   "source": [
    "annotations_file_path = \"./storage/datasets/genbank/gb_curated.gb\"\n",
    "dna_file = \"./storage/data/base/dna_sequences.csv\"\n",
    "exin_file = \"./storage/data/base/exin_sequences.csv\"\n",
    "cds_file = \"./storage/data/base/cds_sequences.csv\""
   ]
  },
  {
   "cell_type": "code",
   "execution_count": 3,
   "id": "8e5d8336",
   "metadata": {},
   "outputs": [],
   "source": [
    "generator = extract_data(\n",
    "\tannotations_file_path=annotations_file_path\n",
    ")"
   ]
  },
  {
   "cell_type": "code",
   "execution_count": 4,
   "id": "fd9c8937",
   "metadata": {},
   "outputs": [],
   "source": [
    "def chunk_generator(\n",
    "\tgenerator: Iterator[DNASequence],\n",
    "\tchunk_size: int = 2000\n",
    ") -> Iterator[list[DNASequence]]:\n",
    "\titerator = iter(generator)\n",
    "\twhile batch := list(islice(iterator, chunk_size)):\n",
    "\t\tyield batch"
   ]
  },
  {
   "cell_type": "code",
   "execution_count": 5,
   "id": "8193bd93",
   "metadata": {},
   "outputs": [],
   "source": [
    "with \\\n",
    "\topen(dna_file, \"w\", newline=\"\") as f_dna, \\\n",
    "\topen(exin_file, \"w\", newline=\"\") as f_exin, \\\n",
    "\topen(cds_file, \"w\", newline=\"\") as f_cds:\n",
    "\n",
    "\tdna_writer = csv.DictWriter(f_dna, fieldnames=[\"sequence\", \"accession\", \"organism\"])\n",
    "\texin_writer = csv.DictWriter(f_exin, fieldnames=[\"dna_accession\", \"sequence\", \"type\", \"start\", \"end\", \"gene\", \"strand\", \"before\", \"after\"])\n",
    "\tcds_writer = csv.DictWriter(f_cds, fieldnames=[\"dna_accession\", \"sequence\", \"type\", \"start\", \"end\", \"gene\"])\n",
    "\n",
    "\tdna_writer.writeheader()\n",
    "\texin_writer.writeheader()\n",
    "\tcds_writer.writeheader()"
   ]
  },
  {
   "cell_type": "code",
   "execution_count": 6,
   "id": "11a8558a",
   "metadata": {},
   "outputs": [
    {
     "name": "stderr",
     "output_type": "stream",
     "text": [
      "1227it [1:24:39,  4.14s/it]\n"
     ]
    }
   ],
   "source": [
    "seen_dna = set()\n",
    "\n",
    "for chunk in tqdm(chunk_generator(\n",
    "\tgenerator=generator, chunk_size=2000\n",
    ")):\n",
    "\twith \\\n",
    "\t\topen(dna_file, \"a\", newline=\"\") as f_dna, \\\n",
    "\t\topen(exin_file, \"a\", newline=\"\") as f_exin, \\\n",
    "\t\topen(cds_file, \"a\", newline=\"\") as f_cds:\n",
    "\n",
    "\t\tdna_writer = csv.DictWriter(f_dna, fieldnames=[\"sequence\", \"accession\", \"organism\"])\n",
    "\t\texin_writer = csv.DictWriter(f_exin, fieldnames=[\"dna_accession\", \"sequence\", \"type\", \"start\", \"end\", \"gene\", \"strand\", \"before\", \"after\"])\n",
    "\t\tcds_writer = csv.DictWriter(f_cds, fieldnames=[\"dna_accession\", \"sequence\", \"type\", \"start\", \"end\", \"gene\"])\n",
    "\n",
    "\t\tfor dna in chunk:\n",
    "\t\t\tkey = (dna[\"sequence\"], dna[\"organism\"])\n",
    "\t\t\tif key not in seen_dna:\n",
    "\t\t\t\tdna_writer.writerow({\n",
    "\t\t\t\t\t\"sequence\": dna[\"sequence\"],\n",
    "\t\t\t\t\t\"accession\": dna[\"accession\"],\n",
    "\t\t\t\t\t\"organism\": dna[\"organism\"]\n",
    "\t\t\t\t})\n",
    "\t\t\t\tseen_dna.add(key)\n",
    "\t\t\t\n",
    "\t\t\tfor exin in dna[\"exin\"]:\n",
    "\t\t\t\texin_writer.writerow({\n",
    "\t\t\t\t\t\"dna_accession\": dna[\"accession\"],\n",
    "\t\t\t\t\t**exin\n",
    "\t\t\t\t})\n",
    "\t\t\t\n",
    "\t\t\tfor cds in dna[\"cds\"]:\n",
    "\t\t\t\tcds_writer.writerow({\n",
    "\t\t\t\t\t\"dna_accession\": dna[\"accession\"],\n",
    "\t\t\t\t\t**cds\n",
    "\t\t\t\t})"
   ]
  }
 ],
 "metadata": {
  "kernelspec": {
   "display_name": "Python 3",
   "language": "python",
   "name": "python3"
  },
  "language_info": {
   "codemirror_mode": {
    "name": "ipython",
    "version": 3
   },
   "file_extension": ".py",
   "mimetype": "text/x-python",
   "name": "python",
   "nbconvert_exporter": "python",
   "pygments_lexer": "ipython3",
   "version": "3.13.5"
  }
 },
 "nbformat": 4,
 "nbformat_minor": 5
}
