{
 "cells": [
  {
   "cell_type": "markdown",
   "id": "e2521bd6",
   "metadata": {},
   "source": [
    "## Libraries and Imports"
   ]
  },
  {
   "cell_type": "code",
   "execution_count": null,
   "id": "9d37d930",
   "metadata": {},
   "outputs": [],
   "source": [
    "import os\n",
    "\n",
    "os.environ[\"CUDA_VISIBLE_DEVICES\"] = \"7\""
   ]
  },
  {
   "cell_type": "code",
   "execution_count": null,
   "id": "fe766f75",
   "metadata": {},
   "outputs": [],
   "source": [
    "import random\n",
    "\n",
    "import pandas as pd\n",
    "from sklearn.metrics import (accuracy_score, f1_score, precision_score,\n",
    "                             recall_score)\n",
    "from sklearn.model_selection import train_test_split\n",
    "from tqdm import tqdm\n",
    "\n",
    "from llms.exin_classifier.dnabert import ExInClassifierDNABERT\n",
    "from schemas.train_params import TrainParams"
   ]
  },
  {
   "cell_type": "markdown",
   "id": "787ee690",
   "metadata": {},
   "source": [
    "## Params and Files"
   ]
  },
  {
   "cell_type": "code",
   "execution_count": null,
   "id": "f9f7399e",
   "metadata": {},
   "outputs": [],
   "source": [
    "seed = 42\n",
    "\n",
    "csv_path = \"exin-256.csv\"\n",
    "pretrained_model_name = \"ExInDNABERT2Model\""
   ]
  },
  {
   "cell_type": "code",
   "execution_count": null,
   "id": "75a537c2",
   "metadata": {},
   "outputs": [],
   "source": [
    "csv_path = f\"./storage/data/processed/{csv_path}\"\n",
    "output_path = f\"./storage/models/tuned/{pretrained_model_name}\"\n",
    "checkpoint = f\"./storage/models/base/dnabert2\""
   ]
  },
  {
   "cell_type": "markdown",
   "id": "d433f69c",
   "metadata": {},
   "source": [
    "## Reading Dataset"
   ]
  },
  {
   "cell_type": "code",
   "execution_count": null,
   "id": "f96f102f",
   "metadata": {},
   "outputs": [],
   "source": [
    "df = pd.read_csv(csv_path, keep_default_na=False)"
   ]
  },
  {
   "cell_type": "markdown",
   "id": "96989179",
   "metadata": {},
   "source": [
    "## Loading the Model"
   ]
  },
  {
   "cell_type": "code",
   "execution_count": null,
   "id": "e0e3e2b6",
   "metadata": {},
   "outputs": [],
   "source": [
    "llm = ExInClassifierDNABERT(\n",
    " checkpoint=checkpoint, \n",
    " seed=seed\n",
    ")"
   ]
  },
  {
   "cell_type": "markdown",
   "id": "0fa2d921",
   "metadata": {},
   "source": [
    "## Data Processing"
   ]
  },
  {
   "cell_type": "code",
   "execution_count": null,
   "id": "f6ad3d4d",
   "metadata": {},
   "outputs": [],
   "source": [
    "data = df.to_dict(orient=\"records\")"
   ]
  },
  {
   "cell_type": "code",
   "execution_count": null,
   "id": "444fe2f5",
   "metadata": {},
   "outputs": [],
   "source": [
    "all_dataset = []\n",
    "for record in tqdm(data):\n",
    "\texample = llm.build_input(\n",
    "\t\tsequence=record[\"sequence\"],\n",
    "\t\ttarget=record.get(\"target\")\n",
    "\t)\n",
    "\tall_dataset.append(example)\n",
    "\n",
    "train_dataset, test_dataset = train_test_split(\n",
    "\tall_dataset,\n",
    "\ttest_size=0.05,\n",
    "\trandom_state=seed,\n",
    "\tshuffle=True\n",
    ")\n",
    "\n",
    "exons = [ex for ex in train_dataset if ex.get(\"target\") == \"EXON\"]\n",
    "introns = [ex for ex in train_dataset if ex.get(\"target\") == \"INTRON\"]\n",
    "\n",
    "min_len = min(len(exons), len(introns))\n",
    "\n",
    "random.seed(seed)\n",
    "exons_sample = random.sample(exons, min_len)\n",
    "introns_sample = random.sample(introns, min_len)\n",
    "\n",
    "train_dataset = exons_sample + introns_sample\n",
    "random.shuffle(train_dataset)"
   ]
  },
  {
   "cell_type": "code",
   "execution_count": null,
   "id": "b0f02f92",
   "metadata": {},
   "outputs": [],
   "source": [
    "print(\"Train Dataset Len:\", len(train_dataset))\n",
    "print(\"Test Dataset Len:\", len(test_dataset))"
   ]
  },
  {
   "cell_type": "code",
   "execution_count": null,
   "id": "e04ec1e5",
   "metadata": {},
   "outputs": [],
   "source": [
    "llm.train(\n",
    "  dataset=train_dataset,\n",
    "  params=TrainParams(\n",
    "    epochs=1,\n",
    "    batch_size=1,\n",
    "    gradient_accumulation=1,\n",
    "    lr=2e-5,\n",
    "    logging_steps=25000\n",
    "\t)\n",
    ")"
   ]
  },
  {
   "cell_type": "code",
   "execution_count": null,
   "id": "5c71067c",
   "metadata": {},
   "outputs": [],
   "source": [
    "llm.save_pretrained(output_path)"
   ]
  },
  {
   "cell_type": "code",
   "execution_count": null,
   "id": "acd2a717",
   "metadata": {},
   "outputs": [],
   "source": [
    "y_true = []\n",
    "y_pred = []\n",
    "\n",
    "for data in tqdm(test_dataset):\n",
    "\tanswer = llm.generate(data)\n",
    "\ty_pred.append(answer)\n",
    "\ty_true.append(data[\"target\"])"
   ]
  },
  {
   "cell_type": "code",
   "execution_count": null,
   "id": "490cfdbc",
   "metadata": {},
   "outputs": [],
   "source": [
    "print(\"INTRON class:\")\n",
    "print(\"  Precision :\", precision_score(y_true, y_pred, pos_label=\"INTRON\"))\n",
    "print(\"  Recall    :\", recall_score(y_true, y_pred, pos_label=\"INTRON\"))\n",
    "print(\"  F1        :\", f1_score(y_true, y_pred, pos_label=\"INTRON\"))\n",
    "print()\n",
    "print(\"EXON class:\")\n",
    "print(\"  Precision :\", precision_score(y_true, y_pred, pos_label=\"EXON\"))\n",
    "print(\"  Recall    :\", recall_score(y_true, y_pred, pos_label=\"EXON\"))\n",
    "print(\"  F1        :\", f1_score(y_true, y_pred, pos_label=\"EXON\"))\n",
    "print()\n",
    "print(\"  Accuracy  :\", accuracy_score(y_true, y_pred))"
   ]
  }
 ],
 "metadata": {
  "kernelspec": {
   "display_name": "llm",
   "language": "python",
   "name": "python3"
  },
  "language_info": {
   "codemirror_mode": {
    "name": "ipython",
    "version": 3
   },
   "file_extension": ".py",
   "mimetype": "text/x-python",
   "name": "python",
   "nbconvert_exporter": "python",
   "pygments_lexer": "ipython3",
   "version": "3.13.5"
  }
 },
 "nbformat": 4,
 "nbformat_minor": 5
}
