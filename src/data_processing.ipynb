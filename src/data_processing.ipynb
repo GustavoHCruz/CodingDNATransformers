{
 "cells": [
  {
   "cell_type": "code",
   "execution_count": 1,
   "id": "cb5400b9",
   "metadata": {},
   "outputs": [],
   "source": [
    "import csv\n",
    "import numpy as np\n",
    "import pandas as pd\n",
    "from pandas import DataFrame\n",
    "from tqdm import tqdm"
   ]
  },
  {
   "cell_type": "markdown",
   "id": "6a13d3ca",
   "metadata": {},
   "source": [
    "## Exons and Introns Binary Classification"
   ]
  },
  {
   "cell_type": "code",
   "execution_count": null,
   "id": "0de140dd",
   "metadata": {},
   "outputs": [],
   "source": [
    "dna_df = pd.read_csv(\"./storage/data/base/dna_sequences.csv\", keep_default_na=False)\n",
    "exin_df = pd.read_csv(\"./storage/data/base/exin_sequences.csv\", keep_default_na=False)"
   ]
  },
  {
   "cell_type": "code",
   "execution_count": null,
   "id": "a3b1a6ca",
   "metadata": {},
   "outputs": [],
   "source": [
    "dna_df = dna_df.fillna(\"\")\n",
    "exin_df = exin_df.fillna(\"\")"
   ]
  },
  {
   "cell_type": "code",
   "execution_count": null,
   "id": "c270b33f",
   "metadata": {},
   "outputs": [],
   "source": [
    "merged_df = pd.merge(\n",
    "\tdna_df,\n",
    "\texin_df,\n",
    "\tright_on=\"dna_accession\",\n",
    "\tleft_on=\"accession\",\n",
    "\thow=\"right\"\n",
    ")"
   ]
  },
  {
   "cell_type": "code",
   "execution_count": null,
   "id": "914d3733",
   "metadata": {},
   "outputs": [],
   "source": [
    "filtered_df = merged_df[merged_df[\"sequence_y\"].str.len() < 950]\n",
    "\n",
    "filtered_df = filtered_df.rename(columns={\n",
    "\t\"sequence_y\": \"sequence\",\n",
    "\t\"type\": \"target\"\n",
    "})[[\"sequence\", \"target\", \"organism\", \"gene\", \"before\", \"after\"]]\n",
    "\n",
    "filtered_df.to_csv(\"./storage/data/processed/exin-950.csv\", index=False)"
   ]
  },
  {
   "cell_type": "code",
   "execution_count": null,
   "id": "87d17ce8",
   "metadata": {},
   "outputs": [],
   "source": [
    "filtered_df = merged_df[merged_df[\"sequence_y\"].str.len() < 512]\n",
    "\n",
    "filtered_df = filtered_df.rename(columns={\n",
    "\t\"sequence_y\": \"sequence\",\n",
    "\t\"type\": \"target\"\n",
    "})[[\"sequence\", \"target\", \"organism\", \"gene\", \"before\", \"after\"]]\n",
    "\n",
    "filtered_df.to_csv(\"./storage/data/processed/exin-512.csv\", index=False)"
   ]
  },
  {
   "cell_type": "code",
   "execution_count": null,
   "id": "c686fd46",
   "metadata": {},
   "outputs": [],
   "source": [
    "filtered_df = merged_df[merged_df[\"sequence_y\"].str.len() < 256]\n",
    "\n",
    "filtered_df = filtered_df.rename(columns={\n",
    "\t\"sequence_y\": \"sequence\",\n",
    "\t\"type\": \"target\"\n",
    "})[[\"sequence\", \"target\", \"organism\", \"gene\", \"before\", \"after\"]]\n",
    "\n",
    "filtered_df.to_csv(\"./storage/data/processed/exin-256.csv\", index=False)"
   ]
  },
  {
   "cell_type": "markdown",
   "id": "59004464",
   "metadata": {},
   "source": [
    "## Nucleotide Classification"
   ]
  },
  {
   "cell_type": "code",
   "execution_count": 2,
   "id": "1bb51b29",
   "metadata": {},
   "outputs": [],
   "source": [
    "dna_df = pd.read_csv(\"./storage/data/base/dna_sequences.csv\", keep_default_na=False)\n",
    "exin_df = pd.read_csv(\"./storage/data/base/exin_sequences.csv\", keep_default_na=False)"
   ]
  },
  {
   "cell_type": "code",
   "execution_count": 3,
   "id": "70322198",
   "metadata": {},
   "outputs": [],
   "source": [
    "merged_df = pd.merge(\n",
    "\tdna_df,\n",
    "\texin_df,\n",
    "\tright_on=\"dna_accession\",\n",
    "\tleft_on=\"accession\",\n",
    "\thow=\"right\"\n",
    ")"
   ]
  },
  {
   "cell_type": "code",
   "execution_count": null,
   "id": "80231720",
   "metadata": {},
   "outputs": [],
   "source": [
    "def build_target(\n",
    "\tseq: str,\n",
    "\texins: DataFrame\n",
    ") -> str:\n",
    "\ttarget = np.array([\"U\"] * len(seq))\n",
    "\n",
    "\tfor _, exin in exins.iterrows():\n",
    "\t\tstart, end, etype = int(exin[\"start\"]), int(exin[\"end\"]), exin[\"type\"]\n",
    "\t\tif etype.lower().startswith(\"exon\"):\n",
    "\t\t\ttarget[start:end] = \"E\"\n",
    "\t\telif etype.lower().startswith(\"intron\"):\n",
    "\t\t\ttarget[start:end] = \"I\"\n",
    "\n",
    "\treturn \"\".join(target)"
   ]
  },
  {
   "cell_type": "code",
   "execution_count": null,
   "id": "25e93b9a",
   "metadata": {},
   "outputs": [],
   "source": [
    "filtered_df = merged_df[merged_df[\"sequence_x\"].str.len() < 2000]\n",
    "\n",
    "results = []\n",
    "for accession, group in filtered_df.groupby(\"accession\"):\n",
    "\tseq = group.iloc[0][\"sequence_x\"]\n",
    "\torganism = group.iloc[0][\"organism\"]\n",
    "\ttarget = build_target(seq, group)\n",
    "\tresults.append({\n",
    "\t\t\"sequence\": seq,\n",
    "\t\t\"target\": target,\n",
    "\t\t\"organism\": organism\n",
    "\t})\n",
    "\n",
    "result_df = pd.DataFrame(results)\n",
    "\n",
    "result_df.to_csv(\"./storage/data/processed/nucl-2000.csv\")"
   ]
  },
  {
   "cell_type": "code",
   "execution_count": 5,
   "id": "9344037d",
   "metadata": {},
   "outputs": [],
   "source": [
    "filtered_df = merged_df[merged_df[\"sequence_x\"].str.len() < 1000]\n",
    "\n",
    "results = []\n",
    "for accession, group in filtered_df.groupby(\"accession\"):\n",
    "\tseq = group.iloc[0][\"sequence_x\"]\n",
    "\torganism = group.iloc[0][\"organism\"]\n",
    "\ttarget = build_target(seq, group)\n",
    "\tresults.append({\n",
    "\t\t\"sequence\": seq,\n",
    "\t\t\"target\": target,\n",
    "\t\t\"organism\": organism\n",
    "\t})\n",
    "\n",
    "result_df = pd.DataFrame(results)\n",
    "\n",
    "result_df.to_csv(\"./storage/data/processed/nucl-1000.csv\")"
   ]
  },
  {
   "cell_type": "code",
   "execution_count": 6,
   "id": "1b14aa40",
   "metadata": {},
   "outputs": [],
   "source": [
    "filtered_df = merged_df[merged_df[\"sequence_x\"].str.len() < 500]\n",
    "\n",
    "results = []\n",
    "for accession, group in filtered_df.groupby(\"accession\"):\n",
    "\tseq = group.iloc[0][\"sequence_x\"]\n",
    "\torganism = group.iloc[0][\"organism\"]\n",
    "\ttarget = build_target(seq, group)\n",
    "\tresults.append({\n",
    "\t\t\"sequence\": seq,\n",
    "\t\t\"target\": target,\n",
    "\t\t\"organism\": organism\n",
    "\t})\n",
    "\n",
    "result_df = pd.DataFrame(results)\n",
    "\n",
    "result_df.to_csv(\"./storage/data/processed/nucl-500.csv\")"
   ]
  },
  {
   "cell_type": "markdown",
   "id": "c927afe3",
   "metadata": {},
   "source": [
    "## DNA Translator"
   ]
  },
  {
   "cell_type": "code",
   "execution_count": 2,
   "id": "3cb8a8ac",
   "metadata": {},
   "outputs": [],
   "source": [
    "dna_df = pd.read_csv(\"./storage/data/base/dna_sequences.csv\", keep_default_na=False)\n",
    "cds_df = pd.read_csv(\"./storage/data/base/cds_sequences.csv\", keep_default_na=False)"
   ]
  },
  {
   "cell_type": "markdown",
   "id": "97f5afbf",
   "metadata": {},
   "source": [
    "### Only Proteins for PreTraining"
   ]
  },
  {
   "cell_type": "code",
   "execution_count": 3,
   "id": "93a0fe61",
   "metadata": {},
   "outputs": [],
   "source": [
    "filtered_df = cds_df[cds_df[\"sequence\"].str.len() < 1000]"
   ]
  },
  {
   "cell_type": "code",
   "execution_count": 8,
   "id": "4d798962",
   "metadata": {},
   "outputs": [],
   "source": [
    "filtered_df = filtered_df[[\"sequence\"]]\n",
    "\n",
    "filtered_df.to_csv(\"./storage/data/processed/prot-1000.csv\", index=False)"
   ]
  },
  {
   "cell_type": "markdown",
   "id": "ee6b9230",
   "metadata": {},
   "source": [
    "### DNA Sequences With Introns and Exons + Proteins for FineTuning"
   ]
  },
  {
   "cell_type": "code",
   "execution_count": null,
   "id": "409f76f7",
   "metadata": {},
   "outputs": [],
   "source": [
    "merged_df = pd.merge(\n",
    "\tdna_df,\n",
    "\tcds_df,\n",
    "\tright_on=\"dna_accession\",\n",
    "\tleft_on=\"accession\",\n",
    "\thow=\"right\"\n",
    ")"
   ]
  },
  {
   "cell_type": "code",
   "execution_count": null,
   "id": "5471a01b",
   "metadata": {},
   "outputs": [],
   "source": [
    "filtered_df = merged_df[(merged_df[\"sequence_x\"].str.len() + merged_df[\"sequence_y\"].str.len()) < 1000]\n",
    "\n",
    "filtered_df = filtered_df.rename(columns={\n",
    "\t\"sequence_x\": \"sequence\",\n",
    "\t\"sequence_y\": \"target\"\n",
    "})[[\"sequence\", \"target\", \"organism\"]]\n",
    "\n",
    "filtered_df.to_csv(\"./storage/data/processed/dna-1000.csv\", index=False)"
   ]
  }
 ],
 "metadata": {
  "kernelspec": {
   "display_name": "Python 3",
   "language": "python",
   "name": "python3"
  },
  "language_info": {
   "codemirror_mode": {
    "name": "ipython",
    "version": 3
   },
   "file_extension": ".py",
   "mimetype": "text/x-python",
   "name": "python",
   "nbconvert_exporter": "python",
   "pygments_lexer": "ipython3",
   "version": "3.13.5"
  }
 },
 "nbformat": 4,
 "nbformat_minor": 5
}
