{
 "cells": [
  {
   "cell_type": "code",
   "execution_count": 7,
   "id": "cb5400b9",
   "metadata": {},
   "outputs": [],
   "source": [
    "import csv\n",
    "import numpy as np\n",
    "import pandas as pd\n",
    "from tqdm import tqdm"
   ]
  },
  {
   "cell_type": "markdown",
   "id": "6a13d3ca",
   "metadata": {},
   "source": [
    "## Exons and Introns Binary Classification"
   ]
  },
  {
   "cell_type": "code",
   "execution_count": null,
   "id": "0de140dd",
   "metadata": {},
   "outputs": [],
   "source": [
    "dna_df = pd.read_csv(\"./storage/data/base/dna_sequences.csv\")\n",
    "exin_df = pd.read_csv(\"./storage/data/base/exin_sequences.csv\")"
   ]
  },
  {
   "cell_type": "code",
   "execution_count": null,
   "id": "a3b1a6ca",
   "metadata": {},
   "outputs": [],
   "source": [
    "dna_df = dna_df.fillna(\"\")\n",
    "exin_df = exin_df.fillna(\"\")"
   ]
  },
  {
   "cell_type": "code",
   "execution_count": null,
   "id": "c270b33f",
   "metadata": {},
   "outputs": [],
   "source": [
    "merged_df = pd.merge(\n",
    "\tdna_df,\n",
    "\texin_df,\n",
    "\tright_on=\"dna_accession\",\n",
    "\tleft_on=\"accession\",\n",
    "\thow=\"right\"\n",
    ")"
   ]
  },
  {
   "cell_type": "code",
   "execution_count": null,
   "id": "914d3733",
   "metadata": {},
   "outputs": [],
   "source": [
    "filtered_df = merged_df[merged_df[\"sequence_y\"].str.len() < 950]\n",
    "\n",
    "filtered_df = filtered_df.rename(columns={\n",
    "\t\"sequence_y\": \"sequence\",\n",
    "\t\"type\": \"target\"\n",
    "})[[\"sequence\", \"target\", \"organism\", \"gene\", \"before\", \"after\"]]\n",
    "\n",
    "filtered_df.to_csv(\"./storage/data/processed/exin-950.csv\", index=False)"
   ]
  },
  {
   "cell_type": "code",
   "execution_count": null,
   "id": "87d17ce8",
   "metadata": {},
   "outputs": [],
   "source": [
    "filtered_df = merged_df[merged_df[\"sequence_y\"].str.len() < 512]\n",
    "\n",
    "filtered_df = filtered_df.rename(columns={\n",
    "\t\"sequence_y\": \"sequence\",\n",
    "\t\"type\": \"target\"\n",
    "})[[\"sequence\", \"target\", \"organism\", \"gene\", \"before\", \"after\"]]\n",
    "\n",
    "filtered_df.to_csv(\"./storage/data/processed/exin-512.csv\", index=False)"
   ]
  },
  {
   "cell_type": "code",
   "execution_count": null,
   "id": "c686fd46",
   "metadata": {},
   "outputs": [],
   "source": [
    "filtered_df = merged_df[merged_df[\"sequence_y\"].str.len() < 256]\n",
    "\n",
    "filtered_df = filtered_df.rename(columns={\n",
    "\t\"sequence_y\": \"sequence\",\n",
    "\t\"type\": \"target\"\n",
    "})[[\"sequence\", \"target\", \"organism\", \"gene\", \"before\", \"after\"]]\n",
    "\n",
    "filtered_df.to_csv(\"./storage/data/processed/exin-256.csv\", index=False)"
   ]
  },
  {
   "cell_type": "markdown",
   "id": "59004464",
   "metadata": {},
   "source": [
    "## Triplet Classification"
   ]
  },
  {
   "cell_type": "code",
   "execution_count": 2,
   "id": "1bb51b29",
   "metadata": {},
   "outputs": [
    {
     "name": "stderr",
     "output_type": "stream",
     "text": [
      "C:\\Users\\Gustavo Henrique\\AppData\\Local\\Temp\\ipykernel_26076\\2398638197.py:2: DtypeWarning: Columns (5) have mixed types. Specify dtype option on import or set low_memory=False.\n",
      "  exin_df = pd.read_csv(\"./storage/data/base/exin_sequences.csv\")\n"
     ]
    }
   ],
   "source": [
    "dna_df = pd.read_csv(\"./storage/data/base/dna_sequences.csv\")\n",
    "exin_df = pd.read_csv(\"./storage/data/base/exin_sequences.csv\")"
   ]
  },
  {
   "cell_type": "code",
   "execution_count": 3,
   "id": "a9b79635",
   "metadata": {},
   "outputs": [],
   "source": [
    "dna_df = dna_df.fillna(\"\")\n",
    "exin_df = exin_df.fillna(\"\")"
   ]
  },
  {
   "cell_type": "code",
   "execution_count": 6,
   "id": "70322198",
   "metadata": {},
   "outputs": [],
   "source": [
    "merged_df = pd.merge(\n",
    "\tdna_df,\n",
    "\texin_df,\n",
    "\tright_on=\"dna_accession\",\n",
    "\tleft_on=\"accession\",\n",
    "\thow=\"right\"\n",
    ")"
   ]
  },
  {
   "cell_type": "code",
   "execution_count": 8,
   "id": "80231720",
   "metadata": {},
   "outputs": [],
   "source": [
    "def build_target(seq, exins):\n",
    "\ttarget = np.array([\"N\"] * len(seq))\n",
    "\n",
    "\tfor _, exin in exins.iterrows():\n",
    "\t\tstart, end, etype = int(exin[\"start\"]), int(exin[\"end\"]), exin[\"type\"]\n",
    "\t\tif etype.lower().startswith(\"exon\"):\n",
    "\t\t\ttarget[start:end] = \"E\"\n",
    "\t\telif etype.lower().startswith(\"intron\"):\n",
    "\t\t\ttarget[start:end] = \"I\"\n",
    "\n",
    "\treturn \"\".join(target)"
   ]
  },
  {
   "cell_type": "code",
   "execution_count": 12,
   "id": "f507a164",
   "metadata": {},
   "outputs": [],
   "source": [
    "filtered_df = merged_df[merged_df[\"sequence_x\"].str.len() < 2000]"
   ]
  },
  {
   "cell_type": "code",
   "execution_count": 13,
   "id": "25e93b9a",
   "metadata": {},
   "outputs": [],
   "source": [
    "results = []\n",
    "for accession, group in filtered_df.groupby(\"accession\"):\n",
    "\tseq = group.iloc[0][\"sequence_x\"]\n",
    "\torganism = group.iloc[0][\"organism\"]\n",
    "\ttarget = build_target(seq, group)\n",
    "\tresults.append({\n",
    "\t\t\"sequence\": seq,\n",
    "\t\t\"target\": target,\n",
    "\t\t\"organism\": organism\n",
    "\t})\n",
    "\n",
    "result_df = pd.DataFrame(results)\n",
    "\n",
    "result_df.to_csv(\"./storage/data/processed/triplet-2000.csv\")"
   ]
  },
  {
   "cell_type": "markdown",
   "id": "c927afe3",
   "metadata": {},
   "source": [
    "## DNA Translator"
   ]
  },
  {
   "cell_type": "code",
   "execution_count": null,
   "id": "3cb8a8ac",
   "metadata": {},
   "outputs": [],
   "source": [
    "dna_df = pd.read_csv(\"./storage/data/base/dna_sequences.csv\")\n",
    "cds_df = pd.read_csv(\"./storage/data/base/cds_sequences.csv\")"
   ]
  },
  {
   "cell_type": "code",
   "execution_count": null,
   "id": "debe9cb1",
   "metadata": {},
   "outputs": [],
   "source": [
    "dna_df = dna_df.fillna(\"\")\n",
    "cds_df = cds_df.fillna(\"\")"
   ]
  },
  {
   "cell_type": "code",
   "execution_count": null,
   "id": "409f76f7",
   "metadata": {},
   "outputs": [],
   "source": [
    "merged_df = pd.merge(\n",
    "\tdna_df,\n",
    "\tcds_df,\n",
    "\tright_on=\"dna_accession\",\n",
    "\tleft_on=\"accession\",\n",
    "\thow=\"right\"\n",
    ")"
   ]
  },
  {
   "cell_type": "code",
   "execution_count": null,
   "id": "5471a01b",
   "metadata": {},
   "outputs": [],
   "source": [
    "filtered_df = merged_df[(merged_df[\"sequence_x\"].str.len() + merged_df[\"sequence_y\"].str.len()) < 1000]\n",
    "\n",
    "filtered_df = filtered_df.rename(columns={\n",
    "\t\"sequence_x\": \"sequence\",\n",
    "\t\"sequence_y\": \"target\"\n",
    "})[[\"sequence\", \"target\", \"organism\"]]\n",
    "\n",
    "filtered_df.to_csv(\"./storage/data/processed/dna-1000.csv\", index=False)"
   ]
  }
 ],
 "metadata": {
  "kernelspec": {
   "display_name": "Python 3",
   "language": "python",
   "name": "python3"
  },
  "language_info": {
   "codemirror_mode": {
    "name": "ipython",
    "version": 3
   },
   "file_extension": ".py",
   "mimetype": "text/x-python",
   "name": "python",
   "nbconvert_exporter": "python",
   "pygments_lexer": "ipython3",
   "version": "3.13.5"
  }
 },
 "nbformat": 4,
 "nbformat_minor": 5
}
