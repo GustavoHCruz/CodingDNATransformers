{
 "cells": [
  {
   "cell_type": "markdown",
   "id": "8367617d",
   "metadata": {},
   "source": [
    "## Libraries and Imports"
   ]
  },
  {
   "cell_type": "code",
   "execution_count": null,
   "id": "0cfe64b4",
   "metadata": {},
   "outputs": [],
   "source": [
    "import editdistance\n",
    "import pandas as pd\n",
    "\n",
    "from llms.dna_translator.gpt import DnaTranslatorGPT\n",
    "from schemas.train_params import TrainParams\n",
    "from sklearn.model_selection import train_test_split\n",
    "from tqdm import tqdm\n",
    "\n",
    "from utils.blast_analysis import blast_analysis"
   ]
  },
  {
   "cell_type": "markdown",
   "id": "1b3c70de",
   "metadata": {},
   "source": [
    "## Params and Files"
   ]
  },
  {
   "cell_type": "code",
   "execution_count": null,
   "id": "a0eb2eef",
   "metadata": {},
   "outputs": [],
   "source": [
    "seed = 42\n",
    "\n",
    "pretrain_csv_name = \"prot-1000.csv\"\n",
    "finetune_csv_name = \"dna-1000.csv\"\n",
    "pretrained_model_name = \"DNAPTGPTModel\"\n",
    "finetuned_model_name = \"DNAFTGPTModel\""
   ]
  },
  {
   "cell_type": "code",
   "execution_count": null,
   "id": "05a02ef8",
   "metadata": {},
   "outputs": [],
   "source": [
    "pretrain_csv_path = f\"./storage/data/processed/{pretrain_csv_name}\"\n",
    "finetune_csv_path = f\"./storage/data/processed/{finetune_csv_name}\"\n",
    "pretrained_output_path = f\"./storage/models/tuned/{pretrained_model_name}\"\n",
    "finetuned_output_path = f\"./storage/models/tuned/{finetuned_model_name}\""
   ]
  },
  {
   "cell_type": "markdown",
   "id": "789c4f15",
   "metadata": {},
   "source": [
    "## Reading Datasets"
   ]
  },
  {
   "cell_type": "code",
   "execution_count": null,
   "id": "a8947a8a",
   "metadata": {},
   "outputs": [],
   "source": [
    "pretrain_df = pd.read_csv(pretrain_csv_path, keep_default_na=False)\n",
    "finetune_df = pd.read_csv(finetune_csv_path, keep_default_na=False)"
   ]
  },
  {
   "cell_type": "markdown",
   "id": "6ec2ddf5",
   "metadata": {},
   "source": [
    "## Loading the Model"
   ]
  },
  {
   "cell_type": "code",
   "execution_count": null,
   "id": "27925765",
   "metadata": {},
   "outputs": [],
   "source": [
    "llm = DnaTranslatorGPT(\n",
    "  checkpoint=\"gpt2\",\n",
    "  seed=seed\n",
    ")"
   ]
  },
  {
   "cell_type": "markdown",
   "id": "aebbebc6",
   "metadata": {},
   "source": [
    "## Data Processing"
   ]
  },
  {
   "cell_type": "code",
   "execution_count": null,
   "id": "83b8a525",
   "metadata": {},
   "outputs": [],
   "source": [
    "pretrain_data = pretrain_df.to_dict(orient=\"records\")\n",
    "finetune_data = finetune_df.to_dict(orient=\"records\")"
   ]
  },
  {
   "cell_type": "code",
   "execution_count": null,
   "id": "c9cee3d5",
   "metadata": {},
   "outputs": [],
   "source": [
    "pretrain_dataset = []\n",
    "for data in tqdm(pretrain_data):\n",
    "\texample = llm.build_input_for_pretrain(\n",
    "\t\tprotein_sequence=data[\"sequence\"]\n",
    "\t)\n",
    "\tpretrain_dataset.append(example)\n",
    "\n",
    "finetune_all_dataset = []\n",
    "for data in tqdm(finetune_data):\n",
    "\texample = llm.build_input_for_finetune(\n",
    "\t\tdna_sequence=data[\"sequence\"],\n",
    "\t\tprotein_sequence=data[\"target\"],\n",
    "\t\torganism=data.get(\"organism\")\n",
    "\t)\n",
    "\tfinetune_all_dataset.append(example)\n",
    "\n",
    "finetune_train_dataset, finetune_test_dataset = train_test_split(\n",
    "    finetune_all_dataset,\n",
    "    test_size=0.05,\n",
    "    random_state=seed,\n",
    "    shuffle=True\n",
    ")"
   ]
  },
  {
   "cell_type": "code",
   "execution_count": null,
   "id": "b22c85ed",
   "metadata": {},
   "outputs": [],
   "source": [
    "llm.pretrain(\n",
    "  dataset=pretrain_dataset,\n",
    "  params=TrainParams(\n",
    "    epochs=1,\n",
    "    batch_size=1,\n",
    "    gradient_accumulation=1,\n",
    "    lr=2e-5\n",
    "\t)\n",
    ")"
   ]
  },
  {
   "cell_type": "code",
   "execution_count": null,
   "id": "b18234ed",
   "metadata": {},
   "outputs": [],
   "source": [
    "llm.save_pretrained(pretrained_output_path)"
   ]
  },
  {
   "cell_type": "code",
   "execution_count": null,
   "id": "b30c6553",
   "metadata": {},
   "outputs": [],
   "source": [
    "llm.finetune(\n",
    "  dataset=finetune_train_dataset,\n",
    "  params=TrainParams(\n",
    "    epochs=1,\n",
    "    batch_size=1,\n",
    "    gradient_accumulation=1,\n",
    "    lr=2e-5\n",
    "\t)\n",
    ")"
   ]
  },
  {
   "cell_type": "code",
   "execution_count": null,
   "id": "edf8cde5",
   "metadata": {},
   "outputs": [],
   "source": [
    "llm.save_pretrained(finetuned_output_path)"
   ]
  },
  {
   "cell_type": "code",
   "execution_count": null,
   "id": "36102804",
   "metadata": {},
   "outputs": [],
   "source": [
    "results = []\n",
    "\n",
    "for data in tqdm(finetune_test_dataset):\n",
    "\tpred = llm.generate(data)\n",
    "\ttarget = data[\"protein_sequence\"]\n",
    "\n",
    "\tdist = editdistance.eval(pred, target)\n",
    "\tsimilarity = 1 - dist / max(len(pred), len(target))\n",
    "\n",
    "\tblast_results = blast_analysis(\n",
    "\t\tpred=pred,\n",
    "\t\ttarget=target\n",
    "\t)\n",
    "\n",
    "\tresults.append({\n",
    "\t\t\"target\": target,\n",
    "\t\t\"pred\": pred,\n",
    "\t\t\"edit_dist\": dist,\n",
    "\t\t\"similarity\": similarity,\n",
    "\t\t**blast_results\n",
    "\t})"
   ]
  },
  {
   "cell_type": "code",
   "execution_count": null,
   "id": "1cb8abe7",
   "metadata": {},
   "outputs": [],
   "source": [
    "df = pd.DataFrame(results)"
   ]
  }
 ],
 "metadata": {
  "kernelspec": {
   "display_name": "llm",
   "language": "python",
   "name": "python3"
  },
  "language_info": {
   "codemirror_mode": {
    "name": "ipython",
    "version": 3
   },
   "file_extension": ".py",
   "mimetype": "text/x-python",
   "name": "python",
   "nbconvert_exporter": "python",
   "pygments_lexer": "ipython3",
   "version": "3.13.5"
  }
 },
 "nbformat": 4,
 "nbformat_minor": 5
}
