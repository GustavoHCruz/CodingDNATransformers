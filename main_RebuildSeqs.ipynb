{
 "cells": [
  {
   "cell_type": "code",
   "execution_count": 1,
   "metadata": {},
   "outputs": [],
   "source": [
    "import pandas as pd\n",
    "import random\n",
    "\n",
    "from classes.RebuildSeqs_GPT import RebuildSeqsGPT"
   ]
  },
  {
   "cell_type": "code",
   "execution_count": 2,
   "metadata": {},
   "outputs": [],
   "source": [
    "df_train = pd.read_csv(\"datasets/RebuildSeqs_20k_small.csv\", keep_default_na=False)\n",
    "df_test = pd.read_csv(\"datasets/RebuildSeqs_2k_small.csv\", keep_default_na=False)\n",
    "\n",
    "train_sequence = df_train.iloc[:, 0].tolist()\n",
    "train_builded = df_train.iloc[:, 1].tolist()\n",
    "train_organism = df_train.iloc[:, 2].tolist()\n",
    "\n",
    "test_sequence = df_test.iloc[:, 0].tolist()\n",
    "test_builded = df_test.iloc[:, 1].tolist()\n",
    "test_organism = df_test.iloc[:, 2].tolist()"
   ]
  },
  {
   "cell_type": "code",
   "execution_count": 4,
   "metadata": {},
   "outputs": [
    {
     "name": "stdout",
     "output_type": "stream",
     "text": [
      "Started models/ExInSeqs-GPT2-001 model\n"
     ]
    }
   ],
   "source": [
    "model = RebuildSeqsGPT(checkpoint=\"models/ExInSeqs-GPT2-001\", device=\"cuda\", seed=1234, notification=True, logs_dir=\"logs\", alias=\"gpt2\", log_level=\"info\")"
   ]
  },
  {
   "cell_type": "code",
   "execution_count": 5,
   "metadata": {},
   "outputs": [],
   "source": [
    "model.add_train_data({\n",
    "  \"sequence\": train_sequence,\n",
    "  \"builded\": train_builded,\n",
    "  \"organism\": train_organism,\n",
    "},  batch_size=8, sequence_len=256)"
   ]
  },
  {
   "cell_type": "code",
   "execution_count": 6,
   "metadata": {},
   "outputs": [],
   "source": [
    "model.add_test_data({\n",
    "  \"sequence\": test_sequence,\n",
    "  \"builded\": test_builded,\n",
    "  \"organism\": test_organism,\n",
    "},  batch_size=8, sequence_len=256)"
   ]
  },
  {
   "cell_type": "code",
   "execution_count": 7,
   "metadata": {},
   "outputs": [
    {
     "data": {
      "application/vnd.jupyter.widget-view+json": {
       "model_id": "643f75476fef41d184178d2320db37aa",
       "version_major": 2,
       "version_minor": 0
      },
      "text/plain": [
       "Training Epoch 1/5:   0%|          | 0/2500 [00:00<?, ?it/s]"
      ]
     },
     "metadata": {},
     "output_type": "display_data"
    },
    {
     "data": {
      "application/vnd.jupyter.widget-view+json": {
       "model_id": "6717cdd6c1c949829f0e0299eb3e2510",
       "version_major": 2,
       "version_minor": 0
      },
      "text/plain": [
       "Training Epoch 2/5:   0%|          | 0/2500 [00:00<?, ?it/s]"
      ]
     },
     "metadata": {},
     "output_type": "display_data"
    },
    {
     "data": {
      "application/vnd.jupyter.widget-view+json": {
       "model_id": "4804cfbb98f0411ebe4f0b2a16339e0e",
       "version_major": 2,
       "version_minor": 0
      },
      "text/plain": [
       "Training Epoch 3/5:   0%|          | 0/2500 [00:00<?, ?it/s]"
      ]
     },
     "metadata": {},
     "output_type": "display_data"
    },
    {
     "data": {
      "application/vnd.jupyter.widget-view+json": {
       "model_id": "675d0a3eb1e24d98976b7d791496e00e",
       "version_major": 2,
       "version_minor": 0
      },
      "text/plain": [
       "Training Epoch 4/5:   0%|          | 0/2500 [00:00<?, ?it/s]"
      ]
     },
     "metadata": {},
     "output_type": "display_data"
    },
    {
     "data": {
      "application/vnd.jupyter.widget-view+json": {
       "model_id": "be642500104b480ba8bfccb68c0dec6f",
       "version_major": 2,
       "version_minor": 0
      },
      "text/plain": [
       "Training Epoch 5/5:   0%|          | 0/2500 [00:00<?, ?it/s]"
      ]
     },
     "metadata": {},
     "output_type": "display_data"
    }
   ],
   "source": [
    "model.train(lr=5e-5, epochs=5, save_at_end=False, save_freq=5)"
   ]
  },
  {
   "cell_type": "code",
   "execution_count": 8,
   "metadata": {},
   "outputs": [],
   "source": [
    "def process_sequence( sequence):\n",
    "\treturn f\"\".join(f\"[{nucl.upper()}]\" for nucl in sequence)"
   ]
  },
  {
   "cell_type": "code",
   "execution_count": 9,
   "metadata": {},
   "outputs": [
    {
     "name": "stdout",
     "output_type": "stream",
     "text": [
      "Sequence:[A][T][C][A][T][A][C][C][T][G][A][T][G][G][A][A][T][A][A][A][T][T][G][C][T][T][T][T][T][A][G][A][A][A][A][T][T][T][C][A][T][A][T][T][T][A][G][T][A][T][T][C][C][T][A][C][T][A][C][C][T][G][G][T][G][T][T][G][C][A][T][C][T][A][G][A][G][C][A][G][C][T][G][C][A][G][C][A][C][C][G][G][A][A][A][A][T][G][T][T][A][A][T][A][A][T][C][C][A][T][T][T][T][C][C][T][T][C][A][G][A][T][A][T][T][T][G][C][T][G][G][C][T][A][A][T][G][A][T][G][C][A][A][C][A][A][T][T][A][A][T][G][T][T][G][A][A][T][T][A][A][C][G][C][T][T][T][G][T][T][T][G][A][A][T][A][C][C][A][T][C][T][C][C][G][A][A][T][T][T][T][T][T][A][T][G][A][A][A][T][C][T][A][A][T][G][A][T][T][T][A][A][A][T][A][A][A][T][T][T][T][C][T][T][C][T][T][A][A][A][C][A][G][C][T][A][C][A][A][A][T][A][T][T][A][T][T][T][G][A][C][A][G][A][T][A][C][C][T][T][T][A][T][G][A][C][T][A][G][C][A][T][T][A][C][C][A][C][C][A][G][C][C][C][A][G][C][C][A][C][C]\n",
      "Organism:Rotaria magnacalcarata\n",
      "Marked Sequence:\n"
     ]
    }
   ],
   "source": [
    "idx = 0\n",
    "prompt = f\"Sequence:{process_sequence(train_sequence[idx])}\\nOrganism:{train_organism[idx]}\\nMarked Sequence:\"\n",
    "print(prompt)"
   ]
  },
  {
   "cell_type": "code",
   "execution_count": 10,
   "metadata": {},
   "outputs": [],
   "source": [
    "sequence = model.tokenizer.encode(prompt, truncation=True, max_length=1024, add_special_tokens=True, padding=True, return_tensors=\"pt\")"
   ]
  },
  {
   "cell_type": "code",
   "execution_count": 11,
   "metadata": {},
   "outputs": [],
   "source": [
    "sequence = sequence.to(\"cuda\")"
   ]
  },
  {
   "cell_type": "code",
   "execution_count": 12,
   "metadata": {},
   "outputs": [],
   "source": [
    "attention_mask=[token != model.tokenizer.eos_token_id for token in sequence]"
   ]
  },
  {
   "cell_type": "code",
   "execution_count": 13,
   "metadata": {},
   "outputs": [],
   "source": [
    "attention_mask = attention_mask[0].unsqueeze(0)"
   ]
  },
  {
   "cell_type": "code",
   "execution_count": 46,
   "metadata": {},
   "outputs": [],
   "source": [
    "pred = model.model.generate(input_ids=sequence, attention_mask=attention_mask, repetition_penalty=1, temperature=1.2, top_k=5, do_sample=True, max_new_tokens=512, pad_token_id=model.tokenizer.eos_token_id)"
   ]
  },
  {
   "cell_type": "code",
   "execution_count": 47,
   "metadata": {},
   "outputs": [
    {
     "name": "stdout",
     "output_type": "stream",
     "text": [
      "Prompt: Sequence:[A][T][C][A][T][A][C][C][T][G][A][T][G][G][A][A][T][A][A][A][T][T][G][C][T][T][T][T][T][A][G][A][A][A][A][T][T][T][C][A][T][A][T][T][T][A][G][T][A][T][T][C][C][T][A][C][T][A][C][C][T][G][G][T][G][T][T][G][C][A][T][C][T][A][G][A][G][C][A][G][C][T][G][C][A][G][C][A][C][C][G][G][A][A][A][A][T][G][T][T][A][A][T][A][A][T][C][C][A][T][T][T][T][C][C][T][T][C][A][G][A][T][A][T][T][T][G][C][T][G][G][C][T][A][A][T][G][A][T][G][C][A][A][C][A][A][T][T][A][A][T][G][T][T][G][A][A][T][T][A][A][C][G][C][T][T][T][G][T][T][T][G][A][A][T][A][C][C][A][T][C][T][C][C][G][A][A][T][T][T][T][T][T][A][T][G][A][A][A][T][C][T][A][A][T][G][A][T][T][T][A][A][A][T][A][A][A][T][T][T][T][C][T][T][C][T][T][A][A][A][C][A][G][C][T][A][C][A][A][A][T][A][T][T][A][T][T][T][G][A][C][A][G][A][T][A][C][C][T][T][T][A][T][G][A][C][T][A][G][C][A][T][T][A][C][C][A][C][C][A][G][C][C][C][A][G][C][C][A][C][C]\n",
      "Organism:Rotaria magnacalcarata\n",
      "Marked Sequence:\n",
      "\n",
      "Target: (exon)ATCATACCTGATGGAATAAATTGCTTTTTAGAAAATTTCATATTTAGTATTCCTACTACCTGGTGTTGCATCTAGAGCAGCTGCAGCACCGGAAAATGTTAATAATCCATTTTCCTTCAGATATTTGCTGGCTAATGATGCAACAATTAATGTTGAATTAACGCTTTGTTTGAATACCAT(exon)(intron)ATCATACCTGATGGAATAAATTGCTTTTTAGAAAATTTCATATTTAGTATTCCTACTAC(intron)CTGGTGTTGCATCTAGAGCAGCTGCAGCACCGGAAAATGTTAATAATCCATTTTCCTTCAGATATTTGCTGGCTAATGATGCAACAATTAATGTTGAATTAACGCTTTGTTTGAATACCATCTCCGAATTTTTTATGAAATCTAATGATTTAAATAAATTTTCTTCTTAAACAGCTACAAATATTATTTGACAGATACCTTTATGACTAGCATTACCACCAGCCCAGCCACC\n",
      "\n",
      "Result: Sequence:[A][T][C][A][T][A][C][C][T][G][A][T][G][G][A][A][T][A][A][A][T][T][G][C][T][T][T][T][T][A][G][A][A][A][A][T][T][T][C][A][T][A][T][T][T][A][G][T][A][T][T][C][C][T][A][C][T][A][C][C][T][G][G][T][G][T][T][G][C][A][T][C][T][A][G][A][G][C][A][G][C][T][G][C][A][G][C][A][C][C][G][G][A][A][A][A][T][G][T][T][A][A][T][A][A][T][C][C][A][T][T][T][T][C][C][T][T][C][A][G][A][T][A][T][T][T][G][C][T][G][G][C][T][A][A][T][G][A][T][G][C][A][A][C][A][A][T][T][A][A][T][G][T][T][G][A][A][T][T][A][A][C][G][C][T][T][T][G][T][T][T][G][A][A][T][A][C][C][A][T][C][T][C][C][G][A][A][T][T][T][T][T][T][A][T][G][A][A][A][T][C][T][A][A][T][G][A][T][T][T][A][A][A][T][A][A][A][T][T][T][T][C][T][T][C][T][T][A][A][A][C][A][G][C][T][A][C][A][A][A][T][A][T][T][A][T][T][T][G][A][C][A][G][A][T][A][C][C][T][T][T][A][T][G][A][C][T][A][G][C][A][T][T][A][C][C][A][C][C][A][G][C][C][C][A][G][C][C][A][C][C]\n",
      "Organism:Rotaria magnacalcarata\n",
      "Marked Sequence:[A][G][T][A][T][T][T][T][A][T][T][A][T][T][T][C][C][EXON][T][C][A][G][A][A][T][G][T][G][A][G][T][T][T][A][T][A][A][G][A][A][G][G][A][T][G][G][T][C][T][G][T][T][C][A][G][A][A][G][T][T][C][T][G][G][A][T][T][A][T][C][G][C][A][A][T][C][A][C][T][A][A][A][C][A][A][A][C][C][C][T][G][T][G][T][C][T][A][A][T][A][T][C][A][T][C][A][T][T][T][C][T][T][T][G][T][T][A][A][C][C][A][C][T][C][G][T][C][A][T][T][A][T][T][A][T][A][T][G][A][A][G][T][T][T][A][A][A][G][G][A][C][A][A][A][T][G][T][T][G][INTRON][C][T][C][C][G][T][A][C][C][C][C][T][G][C][C][T][A][G][A][C][T][T][C][C][T][T][G][A][T][G][C][EXON][T][G][T][G][A][C][T][T][C][T][T][C][C][T][T][G][G][A][C][INTRON][A][T][G][T][C][G][G][G][A][G][C][G][C][A][A][A][G][A][C][C][T][C][A][G][G][T][T][T][T][T][A][A][C][A][T][T][T][C][C][T][T][T][T][G][T][C][T][C][T][C][T][A][G][A][G][A][A][C][C][C][C][G][G][G][T][T][T][A][A][A][T][A][C][C][C][C][A][T][G][T][A][INTRON][A][A][A][C][C][T][C][T][C][C][A][A][T][A][C][C][A][INTRON][T][G][A][C][A][T][A][G][A][C][A][T][T][A][T][C][T][T][G][A][A][A][A][C][A][C][T][A][T][C][A][G][C][A][A][C][A][T][A][G][G][A][A][T][A][A][C][A][A][A][T][T][T][T][C][A][C][A][G][A][G][A][T][G][T][T][A][G][T][T][A][T][A][G][T][A][C][A][C][A][G][A][A][T][A][C][A][A][A][T][A][C][A][INTRON][T][T][T][C][C][A][T][G][T][T][C][T][A][T][G][A][A][C][C][C][T][T][T][A][T][T][T][A][T][G][T][T][T][G][T][C][G][C][T][C][T][T][T][G][T][A][A][C][T][C][T][G][C][C][G][C][C][T][C][A][T][A][G][A][T][C][G][A][G][A][C][A][C][C][T][A][T][A][C][G][C][G][A][A][T][C][G][T][T][G][T][A][T][C][C][A][A][G][T][C][A][C][T][T][C][T]\n",
      "\n"
     ]
    }
   ],
   "source": [
    "print(f\"Prompt: {prompt}\\n\")\n",
    "print(f\"Target: {train_builded[idx]}\\n\")\n",
    "result = model.tokenizer.decode(pred[0])\n",
    "print(f\"Result: {result}\\n\")"
   ]
  },
  {
   "cell_type": "code",
   "execution_count": 48,
   "metadata": {},
   "outputs": [
    {
     "name": "stdout",
     "output_type": "stream",
     "text": [
      "Model Successful Saved at models\\gpt2_4\n"
     ]
    }
   ],
   "source": [
    "model.save_checkpoint()"
   ]
  }
 ],
 "metadata": {
  "kernelspec": {
   "display_name": "Python 3",
   "language": "python",
   "name": "python3"
  },
  "language_info": {
   "codemirror_mode": {
    "name": "ipython",
    "version": 3
   },
   "file_extension": ".py",
   "mimetype": "text/x-python",
   "name": "python",
   "nbconvert_exporter": "python",
   "pygments_lexer": "ipython3",
   "version": "3.12.3"
  }
 },
 "nbformat": 4,
 "nbformat_minor": 2
}
