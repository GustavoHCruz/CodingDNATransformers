{
 "cells": [
  {
   "cell_type": "code",
   "execution_count": 1,
   "metadata": {},
   "outputs": [],
   "source": [
    "import pandas as pd\n",
    "import random\n",
    "\n",
    "from classes.RebuildSeqs_GPT import RebuildSeqsGPT"
   ]
  },
  {
   "cell_type": "code",
   "execution_count": 14,
   "metadata": {},
   "outputs": [],
   "source": [
    "df_train = pd.read_csv(\"datasets/RebuildSeqs_20k_small.csv\", keep_default_na=False)\n",
    "df_test = pd.read_csv(\"datasets/RebuildSeqs_2k_small.csv\", keep_default_na=False)\n",
    "\n",
    "train_sequence = df_train.iloc[:, 0].tolist()\n",
    "train_builded = df_train.iloc[:, 1].tolist()\n",
    "train_organism = df_train.iloc[:, 2].tolist()\n",
    "\n",
    "test_sequence = df_test.iloc[:, 0].tolist()\n",
    "test_builded = df_test.iloc[:, 1].tolist()\n",
    "test_organism = df_test.iloc[:, 2].tolist()"
   ]
  },
  {
   "cell_type": "code",
   "execution_count": 3,
   "metadata": {},
   "outputs": [
    {
     "name": "stdout",
     "output_type": "stream",
     "text": [
      "Started models/ExInSeqs-GPT2-001 model\n"
     ]
    }
   ],
   "source": [
    "model = RebuildSeqsGPT(checkpoint=\"models/ExInSeqs-GPT2-001\", device=\"cuda\", seed=1234, notification=True, logs_dir=\"logs\", alias=\"gpt2\", log_level=\"info\")"
   ]
  },
  {
   "cell_type": "code",
   "execution_count": 15,
   "metadata": {},
   "outputs": [],
   "source": [
    "model.add_train_data({\n",
    "  \"sequence\": train_sequence,\n",
    "  \"builded\": train_builded,\n",
    "  \"organism\": train_organism,\n",
    "},  batch_size=8, sequence_len=256)"
   ]
  },
  {
   "cell_type": "code",
   "execution_count": 5,
   "metadata": {},
   "outputs": [],
   "source": [
    "model.add_test_data({\n",
    "  \"sequence\": test_sequence,\n",
    "  \"builded\": test_builded,\n",
    "  \"organism\": test_organism,\n",
    "},  batch_size=8, sequence_len=256)"
   ]
  },
  {
   "cell_type": "code",
   "execution_count": 16,
   "metadata": {},
   "outputs": [
    {
     "data": {
      "application/vnd.jupyter.widget-view+json": {
       "model_id": "51e03fa788ba481a9313900a2abcdd44",
       "version_major": 2,
       "version_minor": 0
      },
      "text/plain": [
       "Training Epoch 1/1:   0%|          | 0/250 [00:00<?, ?it/s]"
      ]
     },
     "metadata": {},
     "output_type": "display_data"
    }
   ],
   "source": [
    "model.train(lr=5e-5, epochs=5, save_at_end=False, save_freq=5)"
   ]
  },
  {
   "cell_type": "code",
   "execution_count": 17,
   "metadata": {},
   "outputs": [],
   "source": [
    "def process_sequence( sequence):\n",
    "\treturn f\"\".join(f\"[{nucl.upper()}]\" for nucl in sequence)"
   ]
  },
  {
   "cell_type": "code",
   "execution_count": 18,
   "metadata": {},
   "outputs": [
    {
     "name": "stdout",
     "output_type": "stream",
     "text": [
      "Sequence:[G][T][T][G][T][T][G][T][T][C][A][A][T][A][G][C][T][T][C][C][A][T][C][C][A][T][T][C][A][C][T][T][T][T][T][G][T][T][C][C][T][G][T][A][T][G][A][T][G][A][A][C][T][G][G][T][G][T][T][A][A][A][A][C][A][T][G][A][C][T][T][T][C][A][C][A][T][G][T][T][G][A][C][G][A][T][G][C][T][G][A][T][G][A][T][G][T][A][T][T][C][G][A][T][A][A][A][G][C][C][A][T][G][G][C][T][G][C][T][G][C][G][A][C][G][G][C][T][G][C][C][T][A][A][A][T][C][A][T][A][G][A][A][T][A][G][A][A][A][A][T][T][A][A][C][T][T][A][G][A][A][A][A][T][A][A][C][A][C][A][A][A][A][G][T][G][C][A][A][A][C][A][A][A][C][T][T][G][A][A][A][T][G][G][T][T][G][G][G][C][G][A][A][T][T][G][T][G][C][T][G][A][G][T][G][C][A][T][T][G][C][G][A][T][T][C][A][C][T][G][T][T][G][C][A][A][A][T][A][G][A][A][A]\n",
      "Organism:Rotaria magnacalcarata\n",
      "Marked Sequence:\n"
     ]
    }
   ],
   "source": [
    "idx = 0\n",
    "prompt = f\"Sequence:{process_sequence(train_sequence[idx])}\\nOrganism:{train_organism[idx]}\\nMarked Sequence:\"\n",
    "print(prompt)"
   ]
  },
  {
   "cell_type": "code",
   "execution_count": 19,
   "metadata": {},
   "outputs": [],
   "source": [
    "sequence = model.tokenizer.encode(prompt, truncation=True, max_length=1024, add_special_tokens=True, padding=True, return_tensors=\"pt\")"
   ]
  },
  {
   "cell_type": "code",
   "execution_count": 20,
   "metadata": {},
   "outputs": [],
   "source": [
    "sequence = sequence.to(\"cuda\")"
   ]
  },
  {
   "cell_type": "code",
   "execution_count": 21,
   "metadata": {},
   "outputs": [],
   "source": [
    "attention_mask=[token != model.tokenizer.eos_token_id for token in sequence]"
   ]
  },
  {
   "cell_type": "code",
   "execution_count": 22,
   "metadata": {},
   "outputs": [],
   "source": [
    "attention_mask = attention_mask[0].unsqueeze(0)"
   ]
  },
  {
   "cell_type": "code",
   "execution_count": 29,
   "metadata": {},
   "outputs": [],
   "source": [
    "pred = model.model.generate(input_ids=sequence, attention_mask=attention_mask, repetition_penalty=0.4, temperature=0.5, top_k=50, max_new_tokens=512, pad_token_id=model.tokenizer.eos_token_id)"
   ]
  },
  {
   "cell_type": "code",
   "execution_count": 30,
   "metadata": {},
   "outputs": [
    {
     "name": "stdout",
     "output_type": "stream",
     "text": [
      "Prompt: Sequence:[G][T][T][G][T][T][G][T][T][C][A][A][T][A][G][C][T][T][C][C][A][T][C][C][A][T][T][C][A][C][T][T][T][T][T][G][T][T][C][C][T][G][T][A][T][G][A][T][G][A][A][C][T][G][G][T][G][T][T][A][A][A][A][C][A][T][G][A][C][T][T][T][C][A][C][A][T][G][T][T][G][A][C][G][A][T][G][C][T][G][A][T][G][A][T][G][T][A][T][T][C][G][A][T][A][A][A][G][C][C][A][T][G][G][C][T][G][C][T][G][C][G][A][C][G][G][C][T][G][C][C][T][A][A][A][T][C][A][T][A][G][A][A][T][A][G][A][A][A][A][T][T][A][A][C][T][T][A][G][A][A][A][A][T][A][A][C][A][C][A][A][A][A][G][T][G][C][A][A][A][C][A][A][A][C][T][T][G][A][A][A][T][G][G][T][T][G][G][G][C][G][A][A][T][T][G][T][G][C][T][G][A][G][T][G][C][A][T][T][G][C][G][A][T][T][C][A][C][T][G][T][T][G][C][A][A][A][T][A][G][A][A][A]\n",
      "Organism:Rotaria magnacalcarata\n",
      "Marked Sequence:\n",
      "\n",
      "Target: (exon)CACCTGTTCTTCTTAAAGCAACTGTCATTGGAAAACCAACACCTCAT(exon)(intron)GTAAGATATCATGTACAAACAAACAAAAGCCTTTTTTCATTCATATTGCTTTTAG(intron)(exon)TTTATCTGGTTGAAAGATGCTGCTCCACTACCAGCTTCAAATCGTCTACGTACTCGTTATGATATCGGTACCAAACAAGTTTTATTACAAATAAATGATGCTCGCCCACAAGATATTGGGGAATATGTTGTAATCGCAACT(exon)\n",
      "\n",
      "Result: Sequence:[G][T][T][G][T][T][G][T][T][C][A][A][T][A][G][C][T][T][C][C][A][T][C][C][A][T][T][C][A][C][T][T][T][T][T][G][T][T][C][C][T][G][T][A][T][G][A][T][G][A][A][C][T][G][G][T][G][T][T][A][A][A][A][C][A][T][G][A][C][T][T][T][C][A][C][A][T][G][T][T][G][A][C][G][A][T][G][C][T][G][A][T][G][A][T][G][T][A][T][T][C][G][A][T][A][A][A][G][C][C][A][T][G][G][C][T][G][C][T][G][C][G][A][C][G][G][C][T][G][C][C][T][A][A][A][T][C][A][T][A][G][A][A][T][A][G][A][A][A][A][T][T][A][A][C][T][T][A][G][A][A][A][A][T][A][A][C][A][C][A][A][A][A][G][T][G][C][A][A][A][C][A][A][A][C][T][T][G][A][A][A][T][G][G][T][T][G][G][G][C][G][A][A][T][T][G][T][G][C][T][G][A][G][T][G][C][A][T][T][G][C][G][A][T][T][C][A][C][T][G][T][T][G][C][A][A][A][T][A][G][A][A][A]\n",
      "Organism:Rotaria magnacalcarata\n",
      "Marked Sequence:[T][T][T][T][T][T][T][T][T][T][T][T][T][T][T][T][T][T][T][T][T][T][T][T][T][T][T][T][T][T][T][T][T][T][T][T][T][T][A][T][T][A][T][T][T][T][T][T][T][T][T][T][T][T][T][T][T][T][T][T][T][T][T][T][T][T][T][T][T][T][T][T][T][T][T][T][T][A][T][A][T][T][T][T][T][T][T][T][A][T][T][T][T][A][T][A][T][T][T][T][T][T][T][T][T][T][T][A][T][T][T][T][T][T][T][T][T][T][T][A][T][A][T][T][T][T][T][T][T][A][T][T][A][T][T][T][T][T][T][T][T][T][T][T][T][T][T][T][T][T][T][T][T][T][T][T][T][T][T][T][T][T][T][A][T][T][T][T][T][T][T][T][T][T][T][T][T][T][T][T][T][T][T][T][T][T][T][T][T][T][A][T][T][T][T][T][T][T][T][T][T][T][T][T][T][T][T][T][T][T][T][T][T][T][T][T][T][T][T][T][T][T][T][T][T][T][T][T][T][T][T][T][T][T][T][T][T][T][T][T][T][T][T][T][T][T][T][T][T][T][T][T][T][T][T][T][T][T][T][T][T][T][T][T][T][T][T][T][T][T][T][T][T][T][T][T][T][T][T][T][T][T][A][T][T][T][A][T][T][T][T][T][T][T][T][T][T][T][T][T][T][T][T][T][T][T][T][T][T][T][T][T][T][T][T][T][T][T][T][T][T][T][T][T][T][T][T][T][T][T][T][T][T][T][T][T][T][T][T][T][T][T][T][T][T][T][T][T][A][T][T][T][T][T][T][T][T][T][T][T][T][T][T][T][T][T][T][T][T][T][T][T][T][T][T][T][T][T][T][T][T][T][T][T][T][T][A][T][T][T][T][T][T][T][T][T][T][T][T][T][T][A][T][T][T][T][T][T][T][T][T][A][T][T][T][T][T][A][A][T][T][T][T][T][T][T][T][T][A][T][T][T][T][T][T][T][T][T][T][T][T][T][T][T][A][T][T][T][T][T][T][T][T][T][T][T][T][T][A][T][T][T][T][T][T][T][T][T][T][T][T][T][T][T][T][T][T][T][T][T][T][T][T][T][T][T][T][T][T][T][T][T][T][T][T][T][T][T][T][T][T][T][T][T][T][T][T][T][T][T][T][T]\n",
      "\n"
     ]
    }
   ],
   "source": [
    "print(f\"Prompt: {prompt}\\n\")\n",
    "print(f\"Target: {train_builded[idx]}\\n\")\n",
    "result = model.tokenizer.decode(pred[0])\n",
    "print(f\"Result: {result}\\n\")"
   ]
  },
  {
   "cell_type": "code",
   "execution_count": 27,
   "metadata": {},
   "outputs": [
    {
     "name": "stdout",
     "output_type": "stream",
     "text": [
      "Sequence to Predict: CACCTGTTCTTCTTAAAGCAACTGTCATTGGAAAACCAACACCTCATGTAAGATATCATGTACAAACAAACAAAAGCCTTTTTTCATTCATATTGCTTTTAGTTTATCTGGTTGAAAGATGCTGCTCCACTACCAGCTTCAAATCGTCTACGTACTCGTTATGATATCGGTACCAAACAAGTTTTATTACAAATAAATGATGCTCGCCCACAAGATATTGGGGAATATGTTGTAATCGCAACT\n",
      "Organism: Rotaria magnacalcarata\n",
      "True Ground: (exon)CACCTGTTCTTCTTAAAGCAACTGTCATTGGAAAACCAACACCTCAT(exon)(intron)GTAAGATATCATGTACAAACAAACAAAAGCCTTTTTTCATTCATATTGCTTTTAG(intron)(exon)TTTATCTGGTTGAAAGATGCTGCTCCACTACCAGCTTCAAATCGTCTACGTACTCGTTATGATATCGGTACCAAACAAGTTTTATTACAAATAAATGATGCTCGCCCACAAGATATTGGGGAATATGTTGTAATCGCAACT(exon)\n"
     ]
    },
    {
     "ename": "IndexError",
     "evalue": "index 1979 is out of bounds for dimension 0 with size 1",
     "output_type": "error",
     "traceback": [
      "\u001b[1;31m---------------------------------------------------------------------------\u001b[0m",
      "\u001b[1;31mIndexError\u001b[0m                                Traceback (most recent call last)",
      "Cell \u001b[1;32mIn[27], line 8\u001b[0m\n\u001b[0;32m      6\u001b[0m \u001b[38;5;28mprint\u001b[39m(\u001b[38;5;124mf\u001b[39m\u001b[38;5;124m\"\u001b[39m\u001b[38;5;124mOrganism: \u001b[39m\u001b[38;5;132;01m{\u001b[39;00mtrain_organism[idx]\u001b[38;5;132;01m}\u001b[39;00m\u001b[38;5;124m\"\u001b[39m)\n\u001b[0;32m      7\u001b[0m \u001b[38;5;28mprint\u001b[39m(\u001b[38;5;124mf\u001b[39m\u001b[38;5;124m\"\u001b[39m\u001b[38;5;124mTrue Ground: \u001b[39m\u001b[38;5;132;01m{\u001b[39;00mtrain_builded[idx]\u001b[38;5;132;01m}\u001b[39;00m\u001b[38;5;124m\"\u001b[39m)\n\u001b[1;32m----> 8\u001b[0m pred \u001b[38;5;241m=\u001b[39m model\u001b[38;5;241m.\u001b[39mpredict_single({\u001b[38;5;124m\"\u001b[39m\u001b[38;5;124msequence\u001b[39m\u001b[38;5;124m\"\u001b[39m: \u001b[43msequence\u001b[49m\u001b[43m[\u001b[49m\u001b[43midx\u001b[49m\u001b[43m]\u001b[49m})\n\u001b[0;32m      9\u001b[0m \u001b[38;5;28mprint\u001b[39m(\u001b[38;5;124mf\u001b[39m\u001b[38;5;124m\"\u001b[39m\u001b[38;5;124mPrediction: \u001b[39m\u001b[38;5;132;01m{\u001b[39;00mpred\u001b[38;5;132;01m}\u001b[39;00m\u001b[38;5;124m\"\u001b[39m)\n",
      "\u001b[1;31mIndexError\u001b[0m: index 1979 is out of bounds for dimension 0 with size 1"
     ]
    }
   ],
   "source": [
    "# Predict Single\n",
    "\n",
    "idx = random.randint(0, len(train_sequence))\n",
    "\n",
    "print(f\"Sequence to Predict: {train_sequence[idx]}\")\n",
    "print(f\"Organism: {train_organism[idx]}\")\n",
    "print(f\"True Ground: {train_builded[idx]}\")\n",
    "pred = model.predict_single({\"sequence\": sequence[idx]})\n",
    "print(f\"Prediction: {pred}\")"
   ]
  }
 ],
 "metadata": {
  "kernelspec": {
   "display_name": "Python 3",
   "language": "python",
   "name": "python3"
  },
  "language_info": {
   "codemirror_mode": {
    "name": "ipython",
    "version": 3
   },
   "file_extension": ".py",
   "mimetype": "text/x-python",
   "name": "python",
   "nbconvert_exporter": "python",
   "pygments_lexer": "ipython3",
   "version": "3.12.3"
  }
 },
 "nbformat": 4,
 "nbformat_minor": 2
}
