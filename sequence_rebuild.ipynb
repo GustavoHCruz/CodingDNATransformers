{
 "cells": [
  {
   "cell_type": "code",
   "execution_count": 1,
   "metadata": {},
   "outputs": [],
   "source": [
    "import pickle\n",
    "from SpliceGPT import SpliceGPT"
   ]
  },
  {
   "cell_type": "code",
   "execution_count": 2,
   "metadata": {},
   "outputs": [],
   "source": [
    "file = open(\"./datasets/???.csv\", \"rb\")\n",
    "data = pickle.load(file)"
   ]
  },
  {
   "cell_type": "code",
   "execution_count": null,
   "metadata": {},
   "outputs": [],
   "source": [
    "checkpoint = \"models/SpliceGPT\"\n",
    "\n",
    "splicegpt = SpliceGPT(checkpoint)"
   ]
  },
  {
   "cell_type": "code",
   "execution_count": 5,
   "metadata": {},
   "outputs": [],
   "source": [
    "def predict_sequence(seq):\n",
    "  intron_comb = []\n",
    "  gt_pos = 0\n",
    "  ag_pos = 0\n",
    "\n",
    "  intron_comb = []\n",
    "  gt_pos = seq.find(\"GT\")\n",
    "  while(gt_pos != -1):\n",
    "    ag_pos = seq.find(\"AG\", gt_pos+2)\n",
    "    prediction = \"[EXON]\"\n",
    "    while(ag_pos != -1):\n",
    "      current_seq = seq[gt_pos:ag_pos+2]\n",
    "\n",
    "      prediction = splicegpt.predict()\n",
    "      \n",
    "      if prediction == \"[INTRON]\":\n",
    "        intron_comb.append(current_seq)\n",
    "        gt_pos = seq.find(\"GT\", ag_pos+1)\n",
    "        ag_pos = -1\n",
    "      else:\n",
    "        ag_pos = seq.find(\"AG\", ag_pos+1)\n",
    "\n",
    "    if prediction != \"[INTRON]\":\n",
    "      gt_pos = seq.find(\"GT\", gt_pos+1)\n",
    "\n",
    "  for intron in intron_comb:\n",
    "    seq = seq.replace(intron, \"\")\n",
    "\n",
    "  return seq"
   ]
  },
  {
   "cell_type": "code",
   "execution_count": null,
   "metadata": {},
   "outputs": [],
   "source": [
    "total = 0\n",
    "hits = 0\n",
    "\n",
    "for sequence in data:\n",
    "  answer = predict_sequence(sequence['complete_sequence'])\n",
    "  total += 1\n",
    "\n",
    "  if(sequence['response_sequence'] == answer):\n",
    "    hits += 1\n",
    "  \n",
    "  if (total % 10 == 0):\n",
    "    print(\"Hits:\"+str(hits),\"\\nTotal:\"+str(total))\n",
    "    print(\"Result:\"+str((hits/total)*100))    \n",
    "\n",
    "\n",
    "print(\"Hits:\"+str(hits),\"\\nTotal:\"+str(total))\n",
    "print(\"Result:\"+str((hits/total)*100))"
   ]
  }
 ],
 "metadata": {
  "kernelspec": {
   "display_name": "Python 3",
   "language": "python",
   "name": "python3"
  },
  "language_info": {
   "codemirror_mode": {
    "name": "ipython",
    "version": 3
   },
   "file_extension": ".py",
   "mimetype": "text/x-python",
   "name": "python",
   "nbconvert_exporter": "python",
   "pygments_lexer": "ipython3",
   "version": "3.12.3"
  }
 },
 "nbformat": 4,
 "nbformat_minor": 2
}
